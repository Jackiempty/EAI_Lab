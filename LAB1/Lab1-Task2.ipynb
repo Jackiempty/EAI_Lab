{
 "cells": [
  {
   "cell_type": "markdown",
   "metadata": {},
   "source": [
    "# Lab 1 Task 2"
   ]
  },
  {
   "cell_type": "code",
   "execution_count": 1,
   "metadata": {
    "id": "zLblU_gpfrRQ"
   },
   "outputs": [],
   "source": [
    "import torch\n",
    "import torch.nn as nn\n",
    "import torch.nn.functional as F\n",
    "import torch.optim as optim\n",
    "import torchvision\n",
    "import torchvision.transforms as transforms\n",
    "import argparse\n",
    "import os\n",
    "import numpy as np\n",
    "from torch.utils.data import random_split\n",
    "from torch.utils.tensorboard import SummaryWriter\n",
    "from thop import profile\n",
    "from torchsummary import summary\n",
    "from tqdm import tqdm"
   ]
  },
  {
   "cell_type": "code",
   "execution_count": 2,
   "metadata": {
    "colab": {
     "base_uri": "https://localhost:8080/"
    },
    "id": "pV3P0XNCfuNZ",
    "outputId": "900de73e-3977-4c6f-e028-35bc491181ef"
   },
   "outputs": [
    {
     "name": "stdout",
     "output_type": "stream",
     "text": [
      "True\n"
     ]
    }
   ],
   "source": [
    "# Check if CUDA is available\n",
    "print(torch.cuda.is_available())"
   ]
  },
  {
   "cell_type": "code",
   "execution_count": 3,
   "metadata": {
    "colab": {
     "base_uri": "https://localhost:8080/"
    },
    "id": "ZLpt7FTrfvwN",
    "outputId": "f72722ce-bc15-4d03-f688-7000b3bf6bee"
   },
   "outputs": [
    {
     "name": "stdout",
     "output_type": "stream",
     "text": [
      "[0.49140018 0.48215762 0.44652876] [0.24703316 0.24348514 0.26158804]\n",
      "[0.49140018 0.48215762 0.44652876] [0.24703316 0.24348514 0.26158804]\n"
     ]
    }
   ],
   "source": [
    "# Calculate mean and std of dataset\n",
    "def get_mean_std(dataset, ratio=1):\n",
    "    # Get mean and std by sample ratio\n",
    "    dataloader = torch.utils.data.DataLoader(dataset, batch_size=int(len(dataset)*ratio), shuffle=True, num_workers=2)\n",
    "\n",
    "    data = next(iter(dataloader))[0]     # get the first iteration data\n",
    "    mean = np.mean(data.numpy(), axis=(0,2,3))\n",
    "    std = np.std(data.numpy(), axis=(0,2,3))\n",
    "    return mean, std\n",
    "\n",
    "train_dataset = torchvision.datasets.CIFAR10(root='./data', train=True, download=True, transform=transforms.ToTensor())\n",
    "test_dataset = torchvision.datasets.CIFAR10(root='./data', train=False, download=True, transform=transforms.ToTensor())\n",
    "\n",
    "train_mean, train_std = get_mean_std(train_dataset)\n",
    "test_mean, test_std = train_mean, train_std\n",
    "print(train_mean, train_std)\n",
    "print(test_mean, test_std)"
   ]
  },
  {
   "cell_type": "code",
   "execution_count": 4,
   "metadata": {
    "id": "KUhAqjSNfxuY"
   },
   "outputs": [],
   "source": [
    "##### data augmentation & normalization #####\n",
    "transform_train = transforms.Compose([\n",
    "    # 同學實作部分：Add data augmentation here\n",
    "    transforms.RandomRotation(15,expand = True),\n",
    "    transforms.Resize((224, 224)),\n",
    "    transforms.RandomPerspective(distortion_scale=0.5, p=0.5),\n",
    "    transforms.RandomHorizontalFlip(0.5),\n",
    "    transforms.RandomVerticalFlip(0.5),\n",
    "    \n",
    "    transforms.ToTensor(), # Transform to tensor\n",
    "    transforms.Normalize(mean=train_mean, std=train_std), # Normalization\n",
    "])\n",
    "\n",
    "transform_test = transforms.Compose([\n",
    "    transforms.RandomRotation(15,expand = True),\n",
    "    transforms.Resize((224, 224)),\n",
    "    transforms.RandomPerspective(distortion_scale=0.5, p=0.5),\n",
    "    transforms.RandomHorizontalFlip(0.5),\n",
    "    transforms.RandomVerticalFlip(0.5),\n",
    "    \n",
    "    transforms.ToTensor(),\n",
    "    transforms.Normalize(mean=test_mean, std=test_std),\n",
    "])"
   ]
  },
  {
   "cell_type": "code",
   "execution_count": 5,
   "metadata": {
    "colab": {
     "base_uri": "https://localhost:8080/"
    },
    "id": "NltFsUEffz48",
    "outputId": "55e4c378-6e46-4b29-c39f-7025b0a3b73a"
   },
   "outputs": [
    {
     "name": "stdout",
     "output_type": "stream",
     "text": [
      "image shape:  torch.Size([3, 224, 224])\n",
      "train length:  45000\n",
      "val length:  5000\n",
      "test length:  10000\n"
     ]
    }
   ],
   "source": [
    "# Dataset\n",
    "trainset = torchvision.datasets.CIFAR10(root='./data', train=True, download=True, transform=transform_train)\n",
    "test_ds = torchvision.datasets.CIFAR10(root='./data', train=False, download=True, transform=transform_test)\n",
    "\n",
    "image, label = trainset[0]\n",
    "print(\"image shape: \", image.shape)\n",
    "\n",
    "# Split validation dataset\n",
    "torch.manual_seed(43)     # Ensure reproducibility\n",
    "val_size = 5000       # Take 5000 images as validation set\n",
    "train_size = len(trainset) - val_size\n",
    "train_ds, val_ds = random_split(trainset, [train_size, val_size])\n",
    "print(\"train length: \", len(train_ds))\n",
    "print(\"val length: \", len(val_ds))\n",
    "print(\"test length: \", len(test_ds))\n",
    "\n",
    "# Declare batch size\n",
    "# 學生實作部分：Set batch size\n",
    "BATCH_SIZE = 32\n",
    "trainloader = torch.utils.data.DataLoader(train_ds, batch_size=BATCH_SIZE, shuffle=True, num_workers=4)\n",
    "validloader = torch.utils.data.DataLoader(val_ds, batch_size=256, shuffle=False, num_workers=4)\n",
    "testloader = torch.utils.data.DataLoader(test_ds, batch_size=256, shuffle=False, num_workers=4)"
   ]
  },
  {
   "cell_type": "code",
   "execution_count": 6,
   "metadata": {
    "id": "ph1fHTwff2Qq"
   },
   "outputs": [],
   "source": [
    "class BasicBlock(nn.Module):\n",
    "    def __init__(self, in_channels, out_channels, stride=1, expansion: int = 1, downsample: nn.Module = None,):\n",
    "        super(BasicBlock, self).__init__()\n",
    "        # 學生實作部分：Define the two convolutional layers and the shortcut connection\n",
    "        self.expansion = expansion\n",
    "        self.downsample = downsample\n",
    "        self.conv1 = nn.Conv2d(\n",
    "            in_channels,\n",
    "            out_channels,\n",
    "            kernel_size=3,\n",
    "            stride=stride,\n",
    "            padding=1,\n",
    "            bias=False,\n",
    "        )\n",
    "        self.bn1 = nn.BatchNorm2d(out_channels)\n",
    "        self.relu = nn.ReLU(inplace=True)\n",
    "        self.conv2 = nn.Conv2d(\n",
    "            out_channels,\n",
    "            out_channels * self.expansion,\n",
    "            kernel_size=3,\n",
    "            padding=1,\n",
    "            bias=False,\n",
    "        )\n",
    "        self.bn2 = nn.BatchNorm2d(out_channels * self.expansion)\n",
    "\n",
    "\n",
    "\n",
    "    def forward(self, x):\n",
    "        # 學生實作部分：Define the forward pass using convolutional layers and the shortcut connection\n",
    "        identity = x\n",
    "\n",
    "        out = self.conv1(x)\n",
    "        out = self.bn1(out)\n",
    "        out = self.relu(out)\n",
    "\n",
    "        out = self.conv2(out)\n",
    "        out = self.bn2(out)\n",
    "\n",
    "        if self.downsample is not None:\n",
    "            identity = self.downsample(x)\n",
    "\n",
    "        out += identity\n",
    "        out = self.relu(out)\n",
    "        return out\n",
    "\n",
    "class ResNet18(nn.Module):\n",
    "    def __init__(self, num_classes=1000):\n",
    "        super(ResNet18, self).__init__()\n",
    "        # 學生實作部分：Define the ResNet-18 architecture using BasicBlock\n",
    "        layers = [2, 2, 2, 2]\n",
    "        self.expansion = 1\n",
    "        self.in_channels = 64\n",
    "        self.conv1 = nn.Conv2d(\n",
    "            in_channels=3,\n",
    "            out_channels=self.in_channels,\n",
    "            kernel_size=7,\n",
    "            stride=2,\n",
    "            padding=3,\n",
    "            bias=False,\n",
    "        )\n",
    "        self.bn1 = nn.BatchNorm2d(self.in_channels)\n",
    "        self.relu = nn.ReLU(inplace=True)\n",
    "        self.maxpool = nn.MaxPool2d(kernel_size=3, stride=2, padding=1)\n",
    "\n",
    "        self.layer1 = self._make_layer(BasicBlock, 64, layers[0], stride=1)\n",
    "        self.layer2 = self._make_layer(BasicBlock, 128, layers[1], stride=2)\n",
    "        self.layer3 = self._make_layer(BasicBlock, 256, layers[2], stride=2)\n",
    "        self.layer4 = self._make_layer(BasicBlock, 512, layers[3], stride=2)\n",
    "\n",
    "        self.avgpool = nn.AdaptiveAvgPool2d((1, 1))\n",
    "        self.fc = nn.Linear(512 * self.expansion, num_classes)\n",
    "\n",
    "\n",
    "    def _make_layer(self, block, out_channels, num_blocks, stride):\n",
    "        # 學生實作部分：Define make_layer function to create layers of blocks\n",
    "        downsample = None\n",
    "        if stride != 1:\n",
    "            downsample = nn.Sequential(\n",
    "                nn.Conv2d(\n",
    "                    self.in_channels,\n",
    "                    out_channels * self.expansion,\n",
    "                    kernel_size=1,\n",
    "                    stride=stride,\n",
    "                    bias=False,\n",
    "                ),\n",
    "                nn.BatchNorm2d(out_channels * self.expansion),\n",
    "            )\n",
    "        layers = []\n",
    "        layers.append(\n",
    "            block(self.in_channels, out_channels, stride, self.expansion, downsample)\n",
    "        )\n",
    "        self.in_channels = out_channels * self.expansion\n",
    "\n",
    "        for i in range(1, num_blocks):\n",
    "            layers.append(\n",
    "                block(self.in_channels, out_channels, expansion=self.expansion)\n",
    "            )\n",
    "\n",
    "        return nn.Sequential(*layers)\n",
    "\n",
    "    def forward(self, x):\n",
    "        # 學生實作部分：Define the forward pass of ResNet-18\n",
    "        x = self.conv1(x)\n",
    "        x = self.bn1(x)\n",
    "        x = self.relu(x)\n",
    "        x = self.maxpool(x)\n",
    "\n",
    "        x = self.layer1(x)\n",
    "        x = self.layer2(x)\n",
    "        x = self.layer3(x)\n",
    "        x = self.layer4(x)\n",
    "        x = self.avgpool(x)\n",
    "        x = torch.flatten(x, 1)\n",
    "        out = self.fc(x)\n",
    "\n",
    "        return out"
   ]
  },
  {
   "cell_type": "code",
   "execution_count": 7,
   "metadata": {
    "colab": {
     "base_uri": "https://localhost:8080/"
    },
    "id": "6-BvIaDNgGpc",
    "outputId": "c7b9f973-e201-4af5-a061-07f9293dfd5f"
   },
   "outputs": [
    {
     "name": "stdout",
     "output_type": "stream",
     "text": [
      "cuda\n",
      "----------------------------------------------------------------\n",
      "        Layer (type)               Output Shape         Param #\n",
      "================================================================\n",
      "            Conv2d-1         [-1, 64, 112, 112]           9,408\n",
      "       BatchNorm2d-2         [-1, 64, 112, 112]             128\n",
      "              ReLU-3         [-1, 64, 112, 112]               0\n",
      "         MaxPool2d-4           [-1, 64, 56, 56]               0\n",
      "            Conv2d-5           [-1, 64, 56, 56]          36,864\n",
      "       BatchNorm2d-6           [-1, 64, 56, 56]             128\n",
      "              ReLU-7           [-1, 64, 56, 56]               0\n",
      "            Conv2d-8           [-1, 64, 56, 56]          36,864\n",
      "       BatchNorm2d-9           [-1, 64, 56, 56]             128\n",
      "             ReLU-10           [-1, 64, 56, 56]               0\n",
      "       BasicBlock-11           [-1, 64, 56, 56]               0\n",
      "           Conv2d-12           [-1, 64, 56, 56]          36,864\n",
      "      BatchNorm2d-13           [-1, 64, 56, 56]             128\n",
      "             ReLU-14           [-1, 64, 56, 56]               0\n",
      "           Conv2d-15           [-1, 64, 56, 56]          36,864\n",
      "      BatchNorm2d-16           [-1, 64, 56, 56]             128\n",
      "             ReLU-17           [-1, 64, 56, 56]               0\n",
      "       BasicBlock-18           [-1, 64, 56, 56]               0\n",
      "           Conv2d-19          [-1, 128, 28, 28]          73,728\n",
      "      BatchNorm2d-20          [-1, 128, 28, 28]             256\n",
      "             ReLU-21          [-1, 128, 28, 28]               0\n",
      "           Conv2d-22          [-1, 128, 28, 28]         147,456\n",
      "      BatchNorm2d-23          [-1, 128, 28, 28]             256\n",
      "           Conv2d-24          [-1, 128, 28, 28]           8,192\n",
      "      BatchNorm2d-25          [-1, 128, 28, 28]             256\n",
      "             ReLU-26          [-1, 128, 28, 28]               0\n",
      "       BasicBlock-27          [-1, 128, 28, 28]               0\n",
      "           Conv2d-28          [-1, 128, 28, 28]         147,456\n",
      "      BatchNorm2d-29          [-1, 128, 28, 28]             256\n",
      "             ReLU-30          [-1, 128, 28, 28]               0\n",
      "           Conv2d-31          [-1, 128, 28, 28]         147,456\n",
      "      BatchNorm2d-32          [-1, 128, 28, 28]             256\n",
      "             ReLU-33          [-1, 128, 28, 28]               0\n",
      "       BasicBlock-34          [-1, 128, 28, 28]               0\n",
      "           Conv2d-35          [-1, 256, 14, 14]         294,912\n",
      "      BatchNorm2d-36          [-1, 256, 14, 14]             512\n",
      "             ReLU-37          [-1, 256, 14, 14]               0\n",
      "           Conv2d-38          [-1, 256, 14, 14]         589,824\n",
      "      BatchNorm2d-39          [-1, 256, 14, 14]             512\n",
      "           Conv2d-40          [-1, 256, 14, 14]          32,768\n",
      "      BatchNorm2d-41          [-1, 256, 14, 14]             512\n",
      "             ReLU-42          [-1, 256, 14, 14]               0\n",
      "       BasicBlock-43          [-1, 256, 14, 14]               0\n",
      "           Conv2d-44          [-1, 256, 14, 14]         589,824\n",
      "      BatchNorm2d-45          [-1, 256, 14, 14]             512\n",
      "             ReLU-46          [-1, 256, 14, 14]               0\n",
      "           Conv2d-47          [-1, 256, 14, 14]         589,824\n",
      "      BatchNorm2d-48          [-1, 256, 14, 14]             512\n",
      "             ReLU-49          [-1, 256, 14, 14]               0\n",
      "       BasicBlock-50          [-1, 256, 14, 14]               0\n",
      "           Conv2d-51            [-1, 512, 7, 7]       1,179,648\n",
      "      BatchNorm2d-52            [-1, 512, 7, 7]           1,024\n",
      "             ReLU-53            [-1, 512, 7, 7]               0\n",
      "           Conv2d-54            [-1, 512, 7, 7]       2,359,296\n",
      "      BatchNorm2d-55            [-1, 512, 7, 7]           1,024\n",
      "           Conv2d-56            [-1, 512, 7, 7]         131,072\n",
      "      BatchNorm2d-57            [-1, 512, 7, 7]           1,024\n",
      "             ReLU-58            [-1, 512, 7, 7]               0\n",
      "       BasicBlock-59            [-1, 512, 7, 7]               0\n",
      "           Conv2d-60            [-1, 512, 7, 7]       2,359,296\n",
      "      BatchNorm2d-61            [-1, 512, 7, 7]           1,024\n",
      "             ReLU-62            [-1, 512, 7, 7]               0\n",
      "           Conv2d-63            [-1, 512, 7, 7]       2,359,296\n",
      "      BatchNorm2d-64            [-1, 512, 7, 7]           1,024\n",
      "             ReLU-65            [-1, 512, 7, 7]               0\n",
      "       BasicBlock-66            [-1, 512, 7, 7]               0\n",
      "AdaptiveAvgPool2d-67            [-1, 512, 1, 1]               0\n",
      "           Linear-68                   [-1, 10]           5,130\n",
      "================================================================\n",
      "Total params: 11,181,642\n",
      "Trainable params: 11,181,642\n",
      "Non-trainable params: 0\n",
      "----------------------------------------------------------------\n",
      "Input size (MB): 0.57\n",
      "Forward/backward pass size (MB): 62.79\n",
      "Params size (MB): 42.65\n",
      "Estimated Total Size (MB): 106.01\n",
      "----------------------------------------------------------------\n",
      "[INFO] Register count_convNd() for <class 'torch.nn.modules.conv.Conv2d'>.\n",
      "[INFO] Register count_normalization() for <class 'torch.nn.modules.batchnorm.BatchNorm2d'>.\n",
      "[INFO] Register zero_ops() for <class 'torch.nn.modules.activation.ReLU'>.\n",
      "[INFO] Register zero_ops() for <class 'torch.nn.modules.pooling.MaxPool2d'>.\n",
      "[INFO] Register zero_ops() for <class 'torch.nn.modules.container.Sequential'>.\n",
      "[INFO] Register count_adap_avgpool() for <class 'torch.nn.modules.pooling.AdaptiveAvgPool2d'>.\n",
      "[INFO] Register count_linear() for <class 'torch.nn.modules.linear.Linear'>.\n",
      "FLOPs: 37.22 MFLOPs\n",
      "Params: 11.18 M\n"
     ]
    }
   ],
   "source": [
    "# Create SummaryWriter\n",
    "writer = SummaryWriter(\"./tensorboard\")\n",
    "\n",
    "model = ResNet18(num_classes=10)\n",
    "torch.cuda.set_device(0)\n",
    "device = torch.device(\"cuda\" if torch.cuda.is_available() else \"cpu\")\n",
    "print(device)\n",
    "model = model.to(device)\n",
    "# Print model summary\n",
    "summary(model, input_size=(3, 224, 224))\n",
    "\n",
    "# Calculate FLOPs and Params\n",
    "dummy_input = torch.randn(1, 3, 32, 32).to(device)\n",
    "flops, params = profile(model, inputs=(dummy_input, ))\n",
    "print(f\"FLOPs: {flops/1e6:.2f} MFLOPs\")\n",
    "print(f\"Params: {params/1e6:.2f} M\")"
   ]
  },
  {
   "cell_type": "code",
   "execution_count": 8,
   "metadata": {
    "colab": {
     "base_uri": "https://localhost:8080/",
     "height": 215
    },
    "id": "sW_kszMZD5vm",
    "outputId": "219de866-ad15-4b9a-8325-be166fc84ec0"
   },
   "outputs": [
    {
     "name": "stdout",
     "output_type": "stream",
     "text": [
      "No saved model found, starting from scratch.\n",
      "running epoch: 1\n"
     ]
    },
    {
     "name": "stderr",
     "output_type": "stream",
     "text": [
      "100%|██████████| 1407/1407 [00:41<00:00, 33.52it/s]\n",
      "100%|██████████| 20/20 [00:02<00:00,  8.10it/s]\n"
     ]
    },
    {
     "name": "stdout",
     "output_type": "stream",
     "text": [
      "saving model...\n",
      "Epoch [1/40] Train Loss: 1.8437 | Train Acc: 31.32% | Val Loss: 1.5874 | Val Acc: 40.46%\n",
      "running epoch: 2\n"
     ]
    },
    {
     "name": "stderr",
     "output_type": "stream",
     "text": [
      "100%|██████████| 1407/1407 [00:42<00:00, 33.30it/s]\n",
      "100%|██████████| 20/20 [00:02<00:00,  7.92it/s]\n"
     ]
    },
    {
     "name": "stdout",
     "output_type": "stream",
     "text": [
      "saving model...\n",
      "Epoch [2/40] Train Loss: 1.4787 | Train Acc: 45.81% | Val Loss: 1.4673 | Val Acc: 46.60%\n",
      "running epoch: 3\n"
     ]
    },
    {
     "name": "stderr",
     "output_type": "stream",
     "text": [
      "100%|██████████| 1407/1407 [00:42<00:00, 33.42it/s]\n",
      "100%|██████████| 20/20 [00:02<00:00,  8.07it/s]\n"
     ]
    },
    {
     "name": "stdout",
     "output_type": "stream",
     "text": [
      "saving model...\n",
      "Epoch [3/40] Train Loss: 1.2642 | Train Acc: 54.14% | Val Loss: 1.2950 | Val Acc: 53.28%\n",
      "running epoch: 4\n"
     ]
    },
    {
     "name": "stderr",
     "output_type": "stream",
     "text": [
      "100%|██████████| 1407/1407 [00:42<00:00, 33.49it/s]\n",
      "100%|██████████| 20/20 [00:02<00:00,  8.31it/s]\n"
     ]
    },
    {
     "name": "stdout",
     "output_type": "stream",
     "text": [
      "saving model...\n",
      "Epoch [4/40] Train Loss: 1.0996 | Train Acc: 60.47% | Val Loss: 1.0735 | Val Acc: 61.22%\n",
      "running epoch: 5\n"
     ]
    },
    {
     "name": "stderr",
     "output_type": "stream",
     "text": [
      "100%|██████████| 1407/1407 [00:42<00:00, 33.49it/s]\n",
      "100%|██████████| 20/20 [00:02<00:00,  8.29it/s]\n"
     ]
    },
    {
     "name": "stdout",
     "output_type": "stream",
     "text": [
      "saving model...\n",
      "Epoch [5/40] Train Loss: 1.0214 | Train Acc: 63.33% | Val Loss: 1.0137 | Val Acc: 63.68%\n",
      "running epoch: 6\n"
     ]
    },
    {
     "name": "stderr",
     "output_type": "stream",
     "text": [
      "100%|██████████| 1407/1407 [00:42<00:00, 33.26it/s]\n",
      "100%|██████████| 20/20 [00:02<00:00,  8.18it/s]\n"
     ]
    },
    {
     "name": "stdout",
     "output_type": "stream",
     "text": [
      "saving model...\n",
      "Epoch [6/40] Train Loss: 0.9600 | Train Acc: 65.84% | Val Loss: 0.9601 | Val Acc: 65.94%\n",
      "running epoch: 7\n"
     ]
    },
    {
     "name": "stderr",
     "output_type": "stream",
     "text": [
      "100%|██████████| 1407/1407 [00:41<00:00, 33.75it/s]\n",
      "100%|██████████| 20/20 [00:02<00:00,  8.09it/s]\n"
     ]
    },
    {
     "name": "stdout",
     "output_type": "stream",
     "text": [
      "saving model...\n",
      "Epoch [7/40] Train Loss: 0.8653 | Train Acc: 69.33% | Val Loss: 0.9230 | Val Acc: 67.62%\n",
      "running epoch: 8\n"
     ]
    },
    {
     "name": "stderr",
     "output_type": "stream",
     "text": [
      "100%|██████████| 1407/1407 [00:41<00:00, 33.54it/s]\n",
      "100%|██████████| 20/20 [00:02<00:00,  8.08it/s]\n"
     ]
    },
    {
     "name": "stdout",
     "output_type": "stream",
     "text": [
      "saving model...\n",
      "Epoch [8/40] Train Loss: 0.8234 | Train Acc: 70.66% | Val Loss: 0.8548 | Val Acc: 69.68%\n",
      "running epoch: 9\n"
     ]
    },
    {
     "name": "stderr",
     "output_type": "stream",
     "text": [
      "100%|██████████| 1407/1407 [00:41<00:00, 33.65it/s]\n",
      "100%|██████████| 20/20 [00:02<00:00,  8.23it/s]\n"
     ]
    },
    {
     "name": "stdout",
     "output_type": "stream",
     "text": [
      "Epoch [9/40] Train Loss: 0.7883 | Train Acc: 72.01% | Val Loss: 0.8684 | Val Acc: 69.08%\n",
      "running epoch: 10\n"
     ]
    },
    {
     "name": "stderr",
     "output_type": "stream",
     "text": [
      "100%|██████████| 1407/1407 [00:41<00:00, 33.62it/s]\n",
      "100%|██████████| 20/20 [00:02<00:00,  7.85it/s]\n"
     ]
    },
    {
     "name": "stdout",
     "output_type": "stream",
     "text": [
      "saving model...\n",
      "Epoch [10/40] Train Loss: 0.7223 | Train Acc: 74.42% | Val Loss: 0.7470 | Val Acc: 73.44%\n",
      "running epoch: 11\n"
     ]
    },
    {
     "name": "stderr",
     "output_type": "stream",
     "text": [
      "100%|██████████| 1407/1407 [00:42<00:00, 33.50it/s]\n",
      "100%|██████████| 20/20 [00:02<00:00,  8.26it/s]\n"
     ]
    },
    {
     "name": "stdout",
     "output_type": "stream",
     "text": [
      "saving model...\n",
      "Epoch [11/40] Train Loss: 0.6952 | Train Acc: 75.45% | Val Loss: 0.7455 | Val Acc: 74.00%\n",
      "running epoch: 12\n"
     ]
    },
    {
     "name": "stderr",
     "output_type": "stream",
     "text": [
      "100%|██████████| 1407/1407 [00:41<00:00, 33.59it/s]\n",
      "100%|██████████| 20/20 [00:02<00:00,  8.15it/s]\n"
     ]
    },
    {
     "name": "stdout",
     "output_type": "stream",
     "text": [
      "saving model...\n",
      "Epoch [12/40] Train Loss: 0.6708 | Train Acc: 76.19% | Val Loss: 0.7078 | Val Acc: 76.16%\n",
      "running epoch: 13\n"
     ]
    },
    {
     "name": "stderr",
     "output_type": "stream",
     "text": [
      "100%|██████████| 1407/1407 [00:41<00:00, 33.60it/s]\n",
      "100%|██████████| 20/20 [00:02<00:00,  8.17it/s]\n"
     ]
    },
    {
     "name": "stdout",
     "output_type": "stream",
     "text": [
      "saving model...\n",
      "Epoch [13/40] Train Loss: 0.6177 | Train Acc: 78.23% | Val Loss: 0.6615 | Val Acc: 76.22%\n",
      "running epoch: 14\n"
     ]
    },
    {
     "name": "stderr",
     "output_type": "stream",
     "text": [
      "100%|██████████| 1407/1407 [00:41<00:00, 33.68it/s]\n",
      "100%|██████████| 20/20 [00:02<00:00,  8.21it/s]\n"
     ]
    },
    {
     "name": "stdout",
     "output_type": "stream",
     "text": [
      "saving model...\n",
      "Epoch [14/40] Train Loss: 0.6065 | Train Acc: 78.71% | Val Loss: 0.6628 | Val Acc: 77.10%\n",
      "running epoch: 15\n"
     ]
    },
    {
     "name": "stderr",
     "output_type": "stream",
     "text": [
      "100%|██████████| 1407/1407 [00:41<00:00, 33.85it/s]\n",
      "100%|██████████| 20/20 [00:02<00:00,  7.98it/s]\n"
     ]
    },
    {
     "name": "stdout",
     "output_type": "stream",
     "text": [
      "Epoch [15/40] Train Loss: 0.5858 | Train Acc: 79.27% | Val Loss: 0.6378 | Val Acc: 77.00%\n",
      "running epoch: 16\n"
     ]
    },
    {
     "name": "stderr",
     "output_type": "stream",
     "text": [
      "100%|██████████| 1407/1407 [00:41<00:00, 33.93it/s]\n",
      "100%|██████████| 20/20 [00:02<00:00,  8.24it/s]\n"
     ]
    },
    {
     "name": "stdout",
     "output_type": "stream",
     "text": [
      "saving model...\n",
      "Epoch [16/40] Train Loss: 0.5479 | Train Acc: 80.62% | Val Loss: 0.5793 | Val Acc: 79.44%\n",
      "running epoch: 17\n"
     ]
    },
    {
     "name": "stderr",
     "output_type": "stream",
     "text": [
      "100%|██████████| 1407/1407 [00:41<00:00, 34.20it/s]\n",
      "100%|██████████| 20/20 [00:02<00:00,  7.80it/s]\n"
     ]
    },
    {
     "name": "stdout",
     "output_type": "stream",
     "text": [
      "saving model...\n",
      "Epoch [17/40] Train Loss: 0.5247 | Train Acc: 81.40% | Val Loss: 0.5579 | Val Acc: 80.32%\n",
      "running epoch: 18\n"
     ]
    },
    {
     "name": "stderr",
     "output_type": "stream",
     "text": [
      "100%|██████████| 1407/1407 [00:47<00:00, 29.83it/s]\n",
      "100%|██████████| 20/20 [00:02<00:00,  8.30it/s]\n"
     ]
    },
    {
     "name": "stdout",
     "output_type": "stream",
     "text": [
      "Epoch [18/40] Train Loss: 0.5139 | Train Acc: 81.89% | Val Loss: 0.5823 | Val Acc: 79.10%\n",
      "running epoch: 19\n"
     ]
    },
    {
     "name": "stderr",
     "output_type": "stream",
     "text": [
      "100%|██████████| 1407/1407 [00:41<00:00, 33.62it/s]\n",
      "100%|██████████| 20/20 [00:02<00:00,  8.11it/s]\n"
     ]
    },
    {
     "name": "stdout",
     "output_type": "stream",
     "text": [
      "saving model...\n",
      "Epoch [19/40] Train Loss: 0.4863 | Train Acc: 82.85% | Val Loss: 0.5445 | Val Acc: 81.12%\n",
      "running epoch: 20\n"
     ]
    },
    {
     "name": "stderr",
     "output_type": "stream",
     "text": [
      "100%|██████████| 1407/1407 [00:42<00:00, 33.43it/s]\n",
      "100%|██████████| 20/20 [00:02<00:00,  7.96it/s]\n"
     ]
    },
    {
     "name": "stdout",
     "output_type": "stream",
     "text": [
      "saving model...\n",
      "Epoch [20/40] Train Loss: 0.4760 | Train Acc: 83.40% | Val Loss: 0.5285 | Val Acc: 81.34%\n",
      "running epoch: 21\n"
     ]
    },
    {
     "name": "stderr",
     "output_type": "stream",
     "text": [
      "100%|██████████| 1407/1407 [00:41<00:00, 33.54it/s]\n",
      "100%|██████████| 20/20 [00:02<00:00,  8.05it/s]\n"
     ]
    },
    {
     "name": "stdout",
     "output_type": "stream",
     "text": [
      "Epoch [21/40] Train Loss: 0.4635 | Train Acc: 83.63% | Val Loss: 0.5479 | Val Acc: 80.76%\n",
      "running epoch: 22\n"
     ]
    },
    {
     "name": "stderr",
     "output_type": "stream",
     "text": [
      "100%|██████████| 1407/1407 [00:42<00:00, 33.49it/s]\n",
      "100%|██████████| 20/20 [00:02<00:00,  8.23it/s]\n"
     ]
    },
    {
     "name": "stdout",
     "output_type": "stream",
     "text": [
      "saving model...\n",
      "Epoch [22/40] Train Loss: 0.4334 | Train Acc: 84.62% | Val Loss: 0.5005 | Val Acc: 82.76%\n",
      "running epoch: 23\n"
     ]
    },
    {
     "name": "stderr",
     "output_type": "stream",
     "text": [
      "100%|██████████| 1407/1407 [00:41<00:00, 33.60it/s]\n",
      "100%|██████████| 20/20 [00:02<00:00,  8.17it/s]\n"
     ]
    },
    {
     "name": "stdout",
     "output_type": "stream",
     "text": [
      "Epoch [23/40] Train Loss: 0.4274 | Train Acc: 84.92% | Val Loss: 0.4981 | Val Acc: 82.56%\n",
      "running epoch: 24\n"
     ]
    },
    {
     "name": "stderr",
     "output_type": "stream",
     "text": [
      "100%|██████████| 1407/1407 [00:41<00:00, 33.64it/s]\n",
      "100%|██████████| 20/20 [00:02<00:00,  8.11it/s]\n"
     ]
    },
    {
     "name": "stdout",
     "output_type": "stream",
     "text": [
      "saving model...\n",
      "Epoch [24/40] Train Loss: 0.4188 | Train Acc: 85.18% | Val Loss: 0.4900 | Val Acc: 82.78%\n",
      "running epoch: 25\n"
     ]
    },
    {
     "name": "stderr",
     "output_type": "stream",
     "text": [
      "100%|██████████| 1407/1407 [00:41<00:00, 33.60it/s]\n",
      "100%|██████████| 20/20 [00:02<00:00,  8.06it/s]\n"
     ]
    },
    {
     "name": "stdout",
     "output_type": "stream",
     "text": [
      "Epoch [25/40] Train Loss: 0.4012 | Train Acc: 85.80% | Val Loss: 0.4904 | Val Acc: 82.66%\n",
      "running epoch: 26\n"
     ]
    },
    {
     "name": "stderr",
     "output_type": "stream",
     "text": [
      "100%|██████████| 1407/1407 [00:41<00:00, 33.62it/s]\n",
      "100%|██████████| 20/20 [00:02<00:00,  8.03it/s]\n"
     ]
    },
    {
     "name": "stdout",
     "output_type": "stream",
     "text": [
      "saving model...\n",
      "Epoch [26/40] Train Loss: 0.3923 | Train Acc: 86.15% | Val Loss: 0.4789 | Val Acc: 83.32%\n",
      "running epoch: 27\n"
     ]
    },
    {
     "name": "stderr",
     "output_type": "stream",
     "text": [
      "100%|██████████| 1407/1407 [00:41<00:00, 33.71it/s]\n",
      "100%|██████████| 20/20 [00:02<00:00,  8.33it/s]\n"
     ]
    },
    {
     "name": "stdout",
     "output_type": "stream",
     "text": [
      "saving model...\n",
      "Epoch [27/40] Train Loss: 0.3867 | Train Acc: 86.31% | Val Loss: 0.4704 | Val Acc: 83.80%\n",
      "running epoch: 28\n"
     ]
    },
    {
     "name": "stderr",
     "output_type": "stream",
     "text": [
      "100%|██████████| 1407/1407 [00:41<00:00, 34.22it/s]\n",
      "100%|██████████| 20/20 [00:02<00:00,  8.31it/s]\n"
     ]
    },
    {
     "name": "stdout",
     "output_type": "stream",
     "text": [
      "Epoch [28/40] Train Loss: 0.3677 | Train Acc: 86.85% | Val Loss: 0.4596 | Val Acc: 83.64%\n",
      "running epoch: 29\n"
     ]
    },
    {
     "name": "stderr",
     "output_type": "stream",
     "text": [
      "100%|██████████| 1407/1407 [00:41<00:00, 34.28it/s]\n",
      "100%|██████████| 20/20 [00:02<00:00,  7.53it/s]\n"
     ]
    },
    {
     "name": "stdout",
     "output_type": "stream",
     "text": [
      "Epoch [29/40] Train Loss: 0.3632 | Train Acc: 87.24% | Val Loss: 0.4549 | Val Acc: 83.80%\n",
      "running epoch: 30\n"
     ]
    },
    {
     "name": "stderr",
     "output_type": "stream",
     "text": [
      "100%|██████████| 1407/1407 [00:55<00:00, 25.45it/s]\n",
      "100%|██████████| 20/20 [00:02<00:00,  7.45it/s]\n"
     ]
    },
    {
     "name": "stdout",
     "output_type": "stream",
     "text": [
      "saving model...\n",
      "Epoch [30/40] Train Loss: 0.3627 | Train Acc: 87.29% | Val Loss: 0.4603 | Val Acc: 83.92%\n",
      "running epoch: 31\n"
     ]
    },
    {
     "name": "stderr",
     "output_type": "stream",
     "text": [
      "100%|██████████| 1407/1407 [00:50<00:00, 27.93it/s]\n",
      "100%|██████████| 20/20 [00:02<00:00,  7.94it/s]\n"
     ]
    },
    {
     "name": "stdout",
     "output_type": "stream",
     "text": [
      "saving model...\n",
      "Epoch [31/40] Train Loss: 0.3480 | Train Acc: 87.76% | Val Loss: 0.4455 | Val Acc: 84.70%\n",
      "running epoch: 32\n"
     ]
    },
    {
     "name": "stderr",
     "output_type": "stream",
     "text": [
      "100%|██████████| 1407/1407 [00:41<00:00, 33.76it/s]\n",
      "100%|██████████| 20/20 [00:02<00:00,  8.11it/s]\n"
     ]
    },
    {
     "name": "stdout",
     "output_type": "stream",
     "text": [
      "saving model...\n",
      "Epoch [32/40] Train Loss: 0.3403 | Train Acc: 88.11% | Val Loss: 0.4441 | Val Acc: 84.86%\n",
      "running epoch: 33\n"
     ]
    },
    {
     "name": "stderr",
     "output_type": "stream",
     "text": [
      "100%|██████████| 1407/1407 [00:40<00:00, 34.41it/s]\n",
      "100%|██████████| 20/20 [00:02<00:00,  8.50it/s]\n"
     ]
    },
    {
     "name": "stdout",
     "output_type": "stream",
     "text": [
      "Epoch [33/40] Train Loss: 0.3380 | Train Acc: 88.19% | Val Loss: 0.4487 | Val Acc: 84.84%\n",
      "running epoch: 34\n"
     ]
    },
    {
     "name": "stderr",
     "output_type": "stream",
     "text": [
      "100%|██████████| 1407/1407 [00:42<00:00, 33.38it/s]\n",
      "100%|██████████| 20/20 [00:02<00:00,  7.63it/s]\n"
     ]
    },
    {
     "name": "stdout",
     "output_type": "stream",
     "text": [
      "Epoch [34/40] Train Loss: 0.3292 | Train Acc: 88.44% | Val Loss: 0.4296 | Val Acc: 84.80%\n",
      "running epoch: 35\n"
     ]
    },
    {
     "name": "stderr",
     "output_type": "stream",
     "text": [
      "100%|██████████| 1407/1407 [00:54<00:00, 25.74it/s]\n",
      "100%|██████████| 20/20 [00:02<00:00,  7.71it/s]\n"
     ]
    },
    {
     "name": "stdout",
     "output_type": "stream",
     "text": [
      "saving model...\n",
      "Epoch [35/40] Train Loss: 0.3277 | Train Acc: 88.50% | Val Loss: 0.4235 | Val Acc: 85.38%\n",
      "running epoch: 36\n"
     ]
    },
    {
     "name": "stderr",
     "output_type": "stream",
     "text": [
      "100%|██████████| 1407/1407 [00:57<00:00, 24.51it/s]\n",
      "100%|██████████| 20/20 [00:02<00:00,  7.59it/s]\n"
     ]
    },
    {
     "name": "stdout",
     "output_type": "stream",
     "text": [
      "Epoch [36/40] Train Loss: 0.3216 | Train Acc: 88.66% | Val Loss: 0.4389 | Val Acc: 84.92%\n",
      "running epoch: 37\n"
     ]
    },
    {
     "name": "stderr",
     "output_type": "stream",
     "text": [
      "100%|██████████| 1407/1407 [00:41<00:00, 33.74it/s]\n",
      "100%|██████████| 20/20 [00:02<00:00,  8.13it/s]\n"
     ]
    },
    {
     "name": "stdout",
     "output_type": "stream",
     "text": [
      "Epoch [37/40] Train Loss: 0.3158 | Train Acc: 88.89% | Val Loss: 0.4300 | Val Acc: 84.78%\n",
      "running epoch: 38\n"
     ]
    },
    {
     "name": "stderr",
     "output_type": "stream",
     "text": [
      "100%|██████████| 1407/1407 [00:41<00:00, 33.51it/s]\n",
      "100%|██████████| 20/20 [00:02<00:00,  8.09it/s]\n"
     ]
    },
    {
     "name": "stdout",
     "output_type": "stream",
     "text": [
      "Epoch [38/40] Train Loss: 0.3167 | Train Acc: 88.77% | Val Loss: 0.4230 | Val Acc: 85.12%\n",
      "running epoch: 39\n"
     ]
    },
    {
     "name": "stderr",
     "output_type": "stream",
     "text": [
      "100%|██████████| 1407/1407 [00:41<00:00, 33.84it/s]\n",
      "100%|██████████| 20/20 [00:02<00:00,  8.35it/s]\n"
     ]
    },
    {
     "name": "stdout",
     "output_type": "stream",
     "text": [
      "saving model...\n",
      "Epoch [39/40] Train Loss: 0.3115 | Train Acc: 89.02% | Val Loss: 0.4233 | Val Acc: 85.46%\n",
      "running epoch: 40\n"
     ]
    },
    {
     "name": "stderr",
     "output_type": "stream",
     "text": [
      "100%|██████████| 1407/1407 [00:41<00:00, 34.16it/s]\n",
      "100%|██████████| 20/20 [00:02<00:00,  8.19it/s]"
     ]
    },
    {
     "name": "stdout",
     "output_type": "stream",
     "text": [
      "Epoch [40/40] Train Loss: 0.3071 | Train Acc: 89.22% | Val Loss: 0.4341 | Val Acc: 85.06%\n"
     ]
    },
    {
     "name": "stderr",
     "output_type": "stream",
     "text": [
      "\n"
     ]
    }
   ],
   "source": [
    "# Setting parameter\n",
    "EPOCH = 40\n",
    "pre_epoch = 0\n",
    "lr = 0.01\n",
    "\n",
    "# 同學可以根據自己需求調整optimizer, criterion與lr_scheduler\n",
    "criterion = nn.CrossEntropyLoss()\n",
    "optimizer = optim.SGD(model.parameters(), lr=lr, momentum=0.9, weight_decay=1e-4)\n",
    "scheduler = optim.lr_scheduler.StepLR(optimizer, step_size=3, gamma=0.7)\n",
    "\n",
    "best_model_path = 'best_resnet18.pth'\n",
    "if os.path.exists(best_model_path):\n",
    "    model.load_state_dict(torch.load(best_model_path))\n",
    "    print(f\"Loaded model weights from {best_model_path}\")\n",
    "else:\n",
    "    print(\"No saved model found, starting from scratch.\")\n",
    "\n",
    "# Record training and validation metrics\n",
    "train_losses = []\n",
    "train_accuracies = []\n",
    "val_losses = []\n",
    "val_accuracies = []\n",
    "best_val_acc = 0.0\n",
    "\n",
    "# Training and validation loop\n",
    "for epoch in range(pre_epoch, EPOCH):\n",
    "    model.train()\n",
    "    running_loss = 0.0\n",
    "    correct = 0\n",
    "    total = 0\n",
    "    # 學生實作部分：Complete the training and validation loop\n",
    "    train_loss = 0.0\n",
    "    valid_loss = 0.0\n",
    "    print('running epoch: {}'.format(epoch+1))\n",
    "\n",
    "    # train the model\n",
    "    model.train()\n",
    "    train_correct = 0\n",
    "    train_total = 0\n",
    "    for data, target in tqdm(trainloader):\n",
    "        # move tensors to GPU if CUDA is available\n",
    "        data, target = data.to(device), target.to(device)\n",
    "        # clear the gradients of all optimized variables\n",
    "        optimizer.zero_grad()\n",
    "        # forward pass: compute predicted outputs by passing inputs to the model\n",
    "        output = model(data)\n",
    "        # calculate the batch loss\n",
    "        loss = criterion(output, target)\n",
    "        # backward pass: compute gradient of the loss with respect to model parameters\n",
    "        loss.backward()\n",
    "        # perform a single optimization step (parameter update)\n",
    "        optimizer.step()\n",
    "        # update training loss\n",
    "        train_loss += loss.item()*data.size(0)\n",
    "        # update training Accuracy\n",
    "        train_total += target.size(0)\n",
    "        _, predicted = torch.max(output.data, 1)\n",
    "        train_correct += (predicted == target).sum().item()\n",
    "\n",
    "    scheduler.step()\n",
    "\n",
    "\n",
    "    # validate the model\n",
    "    model.eval()\n",
    "    valid_correct = 0\n",
    "    valid_total = 0\n",
    "    for data, target in tqdm(validloader):\n",
    "        # move tensors to GPU if CUDA is available\n",
    "        target = target.long()\n",
    "        data, target = data.to(device), target.to(device)\n",
    "        # forward pass: compute predicted outputs by passing inputs to the model\n",
    "        output = model(data)\n",
    "        # calculate the batch loss\n",
    "        loss = criterion(output, target)\n",
    "        # update average validation loss\n",
    "        valid_loss += loss.item()*data.size(0)\n",
    "        # update validation Accuracy\n",
    "        valid_total += target.size(0)\n",
    "        _, predicted = torch.max(output.data, 1)\n",
    "        valid_correct += (predicted == target).sum().item()\n",
    "    # calculate average losses\n",
    "    train_loss = train_loss/len(trainloader.dataset)\n",
    "    valid_loss = valid_loss/len(validloader.dataset)\n",
    "\n",
    "    train_acc = 100 * train_correct / train_total\n",
    "    val_acc = 100 * valid_correct / valid_total\n",
    "    train_losses.append(train_loss)\n",
    "    train_accuracies.append(train_acc)\n",
    "    val_losses.append(valid_loss)\n",
    "    val_accuracies.append(val_acc)\n",
    "    \n",
    "    \n",
    "    # 儲存最佳模型\n",
    "    if val_acc > best_val_acc:\n",
    "        best_val_acc = val_acc\n",
    "        torch.save(model.state_dict(), best_model_path)\n",
    "        print(\"saving model...\")\n",
    "\n",
    "\n",
    "    print(f\"Epoch [{epoch+1}/{EPOCH}] \"\n",
    "          f\"Train Loss: {train_loss:.4f} | Train Acc: {train_acc:.2f}% | \"\n",
    "          f\"Val Loss: {valid_loss:.4f} | Val Acc: {val_acc:.2f}%\")\n"
   ]
  },
  {
   "cell_type": "code",
   "execution_count": 9,
   "metadata": {
    "colab": {
     "base_uri": "https://localhost:8080/"
    },
    "id": "hKJJVv3zGYHI",
    "outputId": "b1b35fdb-26ce-4693-fd32-b10598354590"
   },
   "outputs": [
    {
     "name": "stdout",
     "output_type": "stream",
     "text": [
      "Best Model Test Accuracy: 85.04%\n"
     ]
    }
   ],
   "source": [
    "# Load the best model and evaluate on the test set\n",
    "model.load_state_dict(torch.load(best_model_path))\n",
    "model.eval()\n",
    "\n",
    "test_correct = 0\n",
    "test_total = 0\n",
    "with torch.no_grad():\n",
    "    for test_inputs, test_labels in testloader:\n",
    "        test_inputs, test_labels = test_inputs.to(device), test_labels.to(device)\n",
    "        test_outputs = model(test_inputs)\n",
    "        _, test_predicted = test_outputs.max(1)\n",
    "        test_total += test_labels.size(0)\n",
    "        test_correct += test_predicted.eq(test_labels).sum().item()\n",
    "test_accuracy = 100. * test_correct / test_total\n",
    "print(f\"Best Model Test Accuracy: {test_accuracy:.2f}%\")"
   ]
  },
  {
   "cell_type": "code",
   "execution_count": 10,
   "metadata": {
    "colab": {
     "base_uri": "https://localhost:8080/",
     "height": 506
    },
    "id": "SHm67TRfgI_P",
    "outputId": "e8c2762c-0729-441a-e1b3-b6410bf53c08"
   },
   "outputs": [
    {
     "data": {
      "image/png": "[encoded data removed]",
      "text/plain": [
       "<Figure size 1500x500 with 1 Axes>"
      ]
     },
     "metadata": {},
     "output_type": "display_data"
    },
    {
     "data": {
      "image/png": "[encoded data removed]",
      "text/plain": [
       "<Figure size 1500x500 with 1 Axes>"
      ]
     },
     "metadata": {},
     "output_type": "display_data"
    }
   ],
   "source": [
    "##### Plot loss & accuracy graph #####\n",
    "import matplotlib.pyplot as plt\n",
    "# 學生實作部分：Plot training and validation loss and accuracy curves\n",
    "def plt_acc_all():\n",
    "    fig = plt.figure(figsize=(15, 5))\n",
    "    ax1 = fig.add_subplot(1, 2, 1)\n",
    "    ax1.set_title('All acc')\n",
    "\n",
    "    ax1.plot(train_accuracies)\n",
    "    ax1.plot(val_accuracies)\n",
    "\n",
    "    ax1.legend(['train_acc', 'valid_acc'], loc='upper left')\n",
    "    ax1.set_xlabel('epoch')\n",
    "    plt.show()\n",
    "\n",
    "def plt_loss_all():\n",
    "    fig = plt.figure(figsize=(15, 5))\n",
    "    ax1 = fig.add_subplot(1, 2, 1)\n",
    "    ax1.set_title('All loss')\n",
    "\n",
    "    ax1.plot(train_losses)\n",
    "    ax1.plot(val_losses)\n",
    "\n",
    "    ax1.legend(['train_loss', 'valid_loss'], loc='upper left')\n",
    "    ax1.set_xlabel('epoch')\n",
    "    plt.show()\n",
    "\n",
    "\n",
    "plt_loss_all()\n",
    "plt_acc_all()"
   ]
  }
 ],
 "metadata": {
  "accelerator": "GPU",
  "colab": {
   "gpuType": "T4",
   "provenance": []
  },
  "kernelspec": {
   "display_name": "EAI_Lab",
   "language": "python",
   "name": "python3"
  },
  "language_info": {
   "codemirror_mode": {
    "name": "ipython",
    "version": 3
   },
   "file_extension": ".py",
   "mimetype": "text/x-python",
   "name": "python",
   "nbconvert_exporter": "python",
   "pygments_lexer": "ipython3",
   "version": "3.11.13"
  }
 },
 "nbformat": 4,
 "nbformat_minor": 4
}
