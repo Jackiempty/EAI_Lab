{
 "cells": [
  {
   "cell_type": "markdown",
   "metadata": {
    "id": "U3at1mhslz9v"
   },
   "source": [
    "## 掛載雲端硬碟\n"
   ]
  },
  {
   "cell_type": "code",
   "execution_count": 1,
   "metadata": {
    "id": "ijtFdN9tl14V"
   },
   "outputs": [],
   "source": [
    "# from google.colab import drive\n",
    "# drive.mount('/content/drive')"
   ]
  },
  {
   "cell_type": "markdown",
   "metadata": {
    "id": "q5bhyRZrl4X2"
   },
   "source": [
    "## 更改檔案所在路徑"
   ]
  },
  {
   "cell_type": "code",
   "execution_count": 2,
   "metadata": {
    "id": "f2RXiD5Bl6a2"
   },
   "outputs": [],
   "source": [
    "# # Change to your own folder !!!\n",
    "# %cd /content/drive/MyDrive/your own folder/"
   ]
  },
  {
   "cell_type": "markdown",
   "metadata": {
    "id": "gSal5HL0lTHA"
   },
   "source": [
    "## Import library"
   ]
  },
  {
   "cell_type": "code",
   "execution_count": 3,
   "metadata": {
    "id": "6v2iM_kglWj-"
   },
   "outputs": [],
   "source": [
    "import os\n",
    "import argparse\n",
    "\n",
    "import torch\n",
    "import torch.nn as nn\n",
    "import torch.nn.functional as F\n",
    "import torch.optim as optim\n",
    "from torchvision import datasets, transforms\n",
    "from torch.autograd import Variable\n",
    "\n",
    "from models.resnet import ResNet50\n"
   ]
  },
  {
   "cell_type": "markdown",
   "metadata": {
    "id": "yFgiQGL6mq6W"
   },
   "source": [
    "## 設定超參數"
   ]
  },
  {
   "cell_type": "code",
   "execution_count": 4,
   "metadata": {
    "id": "a8FQ-IsUmqtP"
   },
   "outputs": [],
   "source": [
    "SEED = 1\n",
    "TRAIN_BATCH_SIZE = 100\n",
    "TEST_BATCH_SIZE = 1000\n",
    "EPOCHS = 20\n",
    "LEARNING_RATE = 1e-3\n",
    "LOG_INTERVAL = 100\n",
    "CUDA = True\n",
    "\n",
    "RESUME = True\n",
    "START_EPOCH = 0\n",
    "\n",
    "PRUNE_PATH = './model_prune.pth' # Change to your own folder !!!\n",
    "PRUNE_FINETUNE_PATH = './model_prune_finetune.pth' # Change to your own folder !!!\n"
   ]
  },
  {
   "cell_type": "markdown",
   "metadata": {
    "id": "Yk2vUEvtE8H3"
   },
   "source": [
    "#### 檢查是否檢查是否可使用GPU"
   ]
  },
  {
   "cell_type": "code",
   "execution_count": 5,
   "metadata": {
    "id": "_Sa1Tmnym3Pn"
   },
   "outputs": [],
   "source": [
    "if(torch.cuda.is_available()):\n",
    "    CUDA = True\n",
    "    kwargs = {'num_workers': 1, 'pin_memory': True}\n",
    "    torch.cuda.manual_seed(SEED)\n",
    "else:\n",
    "    CUDA = False\n",
    "    kwargs = {}\n"
   ]
  },
  {
   "cell_type": "markdown",
   "metadata": {
    "id": "fylf4FTlm7QX"
   },
   "source": [
    "## 下載資料集\n"
   ]
  },
  {
   "cell_type": "markdown",
   "metadata": {
    "id": "erS9S_76nUsG"
   },
   "source": [
    "這裡將訓練集做Augmentation(Pad, RandCrop, Random)，測試集不用做Augmentation"
   ]
  },
  {
   "cell_type": "code",
   "execution_count": 6,
   "metadata": {
    "id": "vBW21uIHm_C-"
   },
   "outputs": [],
   "source": [
    "#### DATASET ####\n",
    "train_loader = torch.utils.data.DataLoader(\n",
    "    datasets.CIFAR10('./data', train=True, download=True,\n",
    "                   transform=transforms.Compose([\n",
    "                       transforms.Pad(4),\n",
    "                       transforms.RandomCrop(32),\n",
    "                       transforms.RandomHorizontalFlip(),\n",
    "                       transforms.ToTensor(),\n",
    "                       transforms.Normalize((0.4914, 0.4822, 0.4465), (0.2023, 0.1994, 0.2010))\n",
    "                   ])),\n",
    "    batch_size=TRAIN_BATCH_SIZE, shuffle=True, **kwargs)\n",
    "test_loader = torch.utils.data.DataLoader(\n",
    "    datasets.CIFAR10('./data', train=False, transform=transforms.Compose([\n",
    "                       transforms.ToTensor(),\n",
    "                       transforms.Normalize((0.4914, 0.4822, 0.4465), (0.2023, 0.1994, 0.2010))\n",
    "                   ])),\n",
    "    batch_size=TEST_BATCH_SIZE, shuffle=True, **kwargs)"
   ]
  },
  {
   "cell_type": "markdown",
   "metadata": {
    "id": "Is49FKBbuRj2"
   },
   "source": [
    "## 載入剪枝後的網路與權重"
   ]
  },
  {
   "cell_type": "code",
   "execution_count": 7,
   "metadata": {
    "id": "SUbUcHN4uQ89"
   },
   "outputs": [
    {
     "name": "stdout",
     "output_type": "stream",
     "text": [
      "RESUME PRUNE MODEL\n"
     ]
    }
   ],
   "source": [
    "model = None\n",
    "if(RESUME):\n",
    "  checkpoint = torch.load(PRUNE_PATH)\n",
    "  cfg = checkpoint['cfg']\n",
    "  model = ResNet50(num_classes=10,cfg=cfg)\n",
    "  model.load_state_dict(checkpoint['state_dict'])\n",
    "\n",
    "  print('RESUME PRUNE MODEL')\n",
    "\n",
    "if CUDA:\n",
    "    model.cuda()"
   ]
  },
  {
   "cell_type": "markdown",
   "metadata": {
    "id": "J_MA9uRDx1tF"
   },
   "source": [
    "## 設定 Optimizer & CrossEntropy Loss"
   ]
  },
  {
   "cell_type": "code",
   "execution_count": 8,
   "metadata": {
    "id": "FFi0J1-Ux1br"
   },
   "outputs": [],
   "source": [
    "optimizer = optim.Adam(model.parameters(), lr=LEARNING_RATE)\n",
    "criterion = nn.CrossEntropyLoss()"
   ]
  },
  {
   "cell_type": "markdown",
   "metadata": {
    "id": "gR2UTh0iwbEF"
   },
   "source": [
    "## 定義訓練跟測試函數"
   ]
  },
  {
   "cell_type": "code",
   "execution_count": 9,
   "metadata": {
    "id": "hQcKuMDee46V"
   },
   "outputs": [
    {
     "name": "stderr",
     "output_type": "stream",
     "text": [
      "100%|██████████| 500/500 [00:24<00:00, 20.09it/s]\n"
     ]
    },
    {
     "name": "stdout",
     "output_type": "stream",
     "text": [
      "Epoch [1/20] Train Loss: 0.6207 | Train Acc: 79.26%\n"
     ]
    },
    {
     "name": "stderr",
     "output_type": "stream",
     "text": [
      "100%|██████████| 10/10 [00:04<00:00,  2.21it/s]\n"
     ]
    },
    {
     "name": "stdout",
     "output_type": "stream",
     "text": [
      "\n",
      "Test set: Average loss: 0.4903, Accuracy: 8379/10000 (83.8%)\n",
      "\n"
     ]
    },
    {
     "name": "stderr",
     "output_type": "stream",
     "text": [
      "100%|██████████| 500/500 [00:24<00:00, 20.58it/s]\n"
     ]
    },
    {
     "name": "stdout",
     "output_type": "stream",
     "text": [
      "Epoch [2/20] Train Loss: 0.4173 | Train Acc: 86.00%\n"
     ]
    },
    {
     "name": "stderr",
     "output_type": "stream",
     "text": [
      "100%|██████████| 10/10 [00:04<00:00,  2.18it/s]\n"
     ]
    },
    {
     "name": "stdout",
     "output_type": "stream",
     "text": [
      "\n",
      "Test set: Average loss: 0.4927, Accuracy: 8398/10000 (84.0%)\n",
      "\n"
     ]
    },
    {
     "name": "stderr",
     "output_type": "stream",
     "text": [
      "100%|██████████| 500/500 [00:24<00:00, 20.46it/s]\n"
     ]
    },
    {
     "name": "stdout",
     "output_type": "stream",
     "text": [
      "Epoch [3/20] Train Loss: 0.3811 | Train Acc: 86.88%\n"
     ]
    },
    {
     "name": "stderr",
     "output_type": "stream",
     "text": [
      "100%|██████████| 10/10 [00:04<00:00,  2.13it/s]\n"
     ]
    },
    {
     "name": "stdout",
     "output_type": "stream",
     "text": [
      "\n",
      "Test set: Average loss: 0.4622, Accuracy: 8463/10000 (84.6%)\n",
      "\n"
     ]
    },
    {
     "name": "stderr",
     "output_type": "stream",
     "text": [
      "100%|██████████| 500/500 [00:24<00:00, 20.31it/s]\n"
     ]
    },
    {
     "name": "stdout",
     "output_type": "stream",
     "text": [
      "Epoch [4/20] Train Loss: 0.3557 | Train Acc: 87.89%\n"
     ]
    },
    {
     "name": "stderr",
     "output_type": "stream",
     "text": [
      "100%|██████████| 10/10 [00:04<00:00,  2.15it/s]\n"
     ]
    },
    {
     "name": "stdout",
     "output_type": "stream",
     "text": [
      "\n",
      "Test set: Average loss: 0.4388, Accuracy: 8567/10000 (85.7%)\n",
      "\n"
     ]
    },
    {
     "name": "stderr",
     "output_type": "stream",
     "text": [
      "100%|██████████| 500/500 [00:24<00:00, 20.43it/s]\n"
     ]
    },
    {
     "name": "stdout",
     "output_type": "stream",
     "text": [
      "Epoch [5/20] Train Loss: 0.3337 | Train Acc: 88.69%\n"
     ]
    },
    {
     "name": "stderr",
     "output_type": "stream",
     "text": [
      "100%|██████████| 10/10 [00:04<00:00,  2.16it/s]\n"
     ]
    },
    {
     "name": "stdout",
     "output_type": "stream",
     "text": [
      "\n",
      "Test set: Average loss: 0.4149, Accuracy: 8671/10000 (86.7%)\n",
      "\n"
     ]
    },
    {
     "name": "stderr",
     "output_type": "stream",
     "text": [
      "100%|██████████| 500/500 [00:24<00:00, 20.45it/s]\n"
     ]
    },
    {
     "name": "stdout",
     "output_type": "stream",
     "text": [
      "Epoch [6/20] Train Loss: 0.3237 | Train Acc: 88.96%\n"
     ]
    },
    {
     "name": "stderr",
     "output_type": "stream",
     "text": [
      "100%|██████████| 10/10 [00:04<00:00,  2.09it/s]\n"
     ]
    },
    {
     "name": "stdout",
     "output_type": "stream",
     "text": [
      "\n",
      "Test set: Average loss: 0.4383, Accuracy: 8625/10000 (86.2%)\n",
      "\n"
     ]
    },
    {
     "name": "stderr",
     "output_type": "stream",
     "text": [
      "100%|██████████| 500/500 [00:24<00:00, 20.37it/s]\n"
     ]
    },
    {
     "name": "stdout",
     "output_type": "stream",
     "text": [
      "Epoch [7/20] Train Loss: 0.3098 | Train Acc: 89.38%\n"
     ]
    },
    {
     "name": "stderr",
     "output_type": "stream",
     "text": [
      "100%|██████████| 10/10 [00:04<00:00,  2.17it/s]\n"
     ]
    },
    {
     "name": "stdout",
     "output_type": "stream",
     "text": [
      "\n",
      "Test set: Average loss: 0.4454, Accuracy: 8557/10000 (85.6%)\n",
      "\n"
     ]
    },
    {
     "name": "stderr",
     "output_type": "stream",
     "text": [
      "100%|██████████| 500/500 [00:24<00:00, 20.29it/s]\n"
     ]
    },
    {
     "name": "stdout",
     "output_type": "stream",
     "text": [
      "Epoch [8/20] Train Loss: 0.2995 | Train Acc: 89.73%\n"
     ]
    },
    {
     "name": "stderr",
     "output_type": "stream",
     "text": [
      "100%|██████████| 10/10 [00:04<00:00,  2.15it/s]\n"
     ]
    },
    {
     "name": "stdout",
     "output_type": "stream",
     "text": [
      "\n",
      "Test set: Average loss: 0.4516, Accuracy: 8545/10000 (85.4%)\n",
      "\n"
     ]
    },
    {
     "name": "stderr",
     "output_type": "stream",
     "text": [
      "100%|██████████| 500/500 [00:24<00:00, 20.38it/s]\n"
     ]
    },
    {
     "name": "stdout",
     "output_type": "stream",
     "text": [
      "Epoch [9/20] Train Loss: 0.2883 | Train Acc: 90.10%\n"
     ]
    },
    {
     "name": "stderr",
     "output_type": "stream",
     "text": [
      "100%|██████████| 10/10 [00:04<00:00,  2.15it/s]\n"
     ]
    },
    {
     "name": "stdout",
     "output_type": "stream",
     "text": [
      "\n",
      "Test set: Average loss: 0.4215, Accuracy: 8695/10000 (86.9%)\n",
      "\n"
     ]
    },
    {
     "name": "stderr",
     "output_type": "stream",
     "text": [
      "100%|██████████| 500/500 [00:24<00:00, 20.24it/s]\n"
     ]
    },
    {
     "name": "stdout",
     "output_type": "stream",
     "text": [
      "Epoch [10/20] Train Loss: 0.2752 | Train Acc: 90.50%\n"
     ]
    },
    {
     "name": "stderr",
     "output_type": "stream",
     "text": [
      "100%|██████████| 10/10 [00:04<00:00,  2.19it/s]\n"
     ]
    },
    {
     "name": "stdout",
     "output_type": "stream",
     "text": [
      "\n",
      "Test set: Average loss: 0.4235, Accuracy: 8673/10000 (86.7%)\n",
      "\n"
     ]
    },
    {
     "name": "stderr",
     "output_type": "stream",
     "text": [
      "100%|██████████| 500/500 [00:24<00:00, 20.19it/s]\n"
     ]
    },
    {
     "name": "stdout",
     "output_type": "stream",
     "text": [
      "Epoch [11/20] Train Loss: 0.1921 | Train Acc: 93.57%\n"
     ]
    },
    {
     "name": "stderr",
     "output_type": "stream",
     "text": [
      "100%|██████████| 10/10 [00:04<00:00,  2.15it/s]\n"
     ]
    },
    {
     "name": "stdout",
     "output_type": "stream",
     "text": [
      "\n",
      "Test set: Average loss: 0.3295, Accuracy: 8990/10000 (89.9%)\n",
      "\n"
     ]
    },
    {
     "name": "stderr",
     "output_type": "stream",
     "text": [
      "100%|██████████| 500/500 [00:24<00:00, 20.17it/s]\n"
     ]
    },
    {
     "name": "stdout",
     "output_type": "stream",
     "text": [
      "Epoch [12/20] Train Loss: 0.1678 | Train Acc: 94.31%\n"
     ]
    },
    {
     "name": "stderr",
     "output_type": "stream",
     "text": [
      "100%|██████████| 10/10 [00:04<00:00,  2.14it/s]\n"
     ]
    },
    {
     "name": "stdout",
     "output_type": "stream",
     "text": [
      "\n",
      "Test set: Average loss: 0.3366, Accuracy: 9007/10000 (90.1%)\n",
      "\n"
     ]
    },
    {
     "name": "stderr",
     "output_type": "stream",
     "text": [
      "100%|██████████| 500/500 [00:24<00:00, 20.30it/s]\n"
     ]
    },
    {
     "name": "stdout",
     "output_type": "stream",
     "text": [
      "Epoch [13/20] Train Loss: 0.1526 | Train Acc: 94.80%\n"
     ]
    },
    {
     "name": "stderr",
     "output_type": "stream",
     "text": [
      "100%|██████████| 10/10 [00:04<00:00,  2.15it/s]\n"
     ]
    },
    {
     "name": "stdout",
     "output_type": "stream",
     "text": [
      "\n",
      "Test set: Average loss: 0.3422, Accuracy: 9000/10000 (90.0%)\n",
      "\n"
     ]
    },
    {
     "name": "stderr",
     "output_type": "stream",
     "text": [
      "100%|██████████| 500/500 [00:24<00:00, 20.19it/s]\n"
     ]
    },
    {
     "name": "stdout",
     "output_type": "stream",
     "text": [
      "Epoch [14/20] Train Loss: 0.1477 | Train Acc: 94.99%\n"
     ]
    },
    {
     "name": "stderr",
     "output_type": "stream",
     "text": [
      "100%|██████████| 10/10 [00:04<00:00,  2.18it/s]\n"
     ]
    },
    {
     "name": "stdout",
     "output_type": "stream",
     "text": [
      "\n",
      "Test set: Average loss: 0.3505, Accuracy: 9015/10000 (90.2%)\n",
      "\n"
     ]
    },
    {
     "name": "stderr",
     "output_type": "stream",
     "text": [
      "100%|██████████| 500/500 [00:24<00:00, 20.35it/s]\n"
     ]
    },
    {
     "name": "stdout",
     "output_type": "stream",
     "text": [
      "Epoch [15/20] Train Loss: 0.1449 | Train Acc: 94.99%\n"
     ]
    },
    {
     "name": "stderr",
     "output_type": "stream",
     "text": [
      "100%|██████████| 10/10 [00:04<00:00,  2.18it/s]\n"
     ]
    },
    {
     "name": "stdout",
     "output_type": "stream",
     "text": [
      "\n",
      "Test set: Average loss: 0.3384, Accuracy: 9043/10000 (90.4%)\n",
      "\n"
     ]
    },
    {
     "name": "stderr",
     "output_type": "stream",
     "text": [
      "100%|██████████| 500/500 [00:24<00:00, 20.37it/s]\n"
     ]
    },
    {
     "name": "stdout",
     "output_type": "stream",
     "text": [
      "Epoch [16/20] Train Loss: 0.1334 | Train Acc: 95.44%\n"
     ]
    },
    {
     "name": "stderr",
     "output_type": "stream",
     "text": [
      "100%|██████████| 10/10 [00:04<00:00,  2.15it/s]\n"
     ]
    },
    {
     "name": "stdout",
     "output_type": "stream",
     "text": [
      "\n",
      "Test set: Average loss: 0.3400, Accuracy: 9044/10000 (90.4%)\n",
      "\n"
     ]
    },
    {
     "name": "stderr",
     "output_type": "stream",
     "text": [
      "100%|██████████| 500/500 [00:24<00:00, 20.24it/s]\n"
     ]
    },
    {
     "name": "stdout",
     "output_type": "stream",
     "text": [
      "Epoch [17/20] Train Loss: 0.1287 | Train Acc: 95.61%\n"
     ]
    },
    {
     "name": "stderr",
     "output_type": "stream",
     "text": [
      "100%|██████████| 10/10 [00:04<00:00,  2.17it/s]\n"
     ]
    },
    {
     "name": "stdout",
     "output_type": "stream",
     "text": [
      "\n",
      "Test set: Average loss: 0.3375, Accuracy: 9054/10000 (90.5%)\n",
      "\n"
     ]
    },
    {
     "name": "stderr",
     "output_type": "stream",
     "text": [
      "100%|██████████| 500/500 [00:24<00:00, 20.36it/s]\n"
     ]
    },
    {
     "name": "stdout",
     "output_type": "stream",
     "text": [
      "Epoch [18/20] Train Loss: 0.1280 | Train Acc: 95.61%\n"
     ]
    },
    {
     "name": "stderr",
     "output_type": "stream",
     "text": [
      "100%|██████████| 10/10 [00:04<00:00,  2.20it/s]\n"
     ]
    },
    {
     "name": "stdout",
     "output_type": "stream",
     "text": [
      "\n",
      "Test set: Average loss: 0.3385, Accuracy: 9052/10000 (90.5%)\n",
      "\n"
     ]
    },
    {
     "name": "stderr",
     "output_type": "stream",
     "text": [
      "100%|██████████| 500/500 [00:24<00:00, 20.34it/s]\n"
     ]
    },
    {
     "name": "stdout",
     "output_type": "stream",
     "text": [
      "Epoch [19/20] Train Loss: 0.1313 | Train Acc: 95.47%\n"
     ]
    },
    {
     "name": "stderr",
     "output_type": "stream",
     "text": [
      "100%|██████████| 10/10 [00:04<00:00,  2.15it/s]\n"
     ]
    },
    {
     "name": "stdout",
     "output_type": "stream",
     "text": [
      "\n",
      "Test set: Average loss: 0.3391, Accuracy: 9039/10000 (90.4%)\n",
      "\n"
     ]
    },
    {
     "name": "stderr",
     "output_type": "stream",
     "text": [
      "100%|██████████| 500/500 [00:24<00:00, 20.36it/s]\n"
     ]
    },
    {
     "name": "stdout",
     "output_type": "stream",
     "text": [
      "Epoch [20/20] Train Loss: 0.1294 | Train Acc: 95.63%\n"
     ]
    },
    {
     "name": "stderr",
     "output_type": "stream",
     "text": [
      "100%|██████████| 10/10 [00:04<00:00,  2.18it/s]"
     ]
    },
    {
     "name": "stdout",
     "output_type": "stream",
     "text": [
      "\n",
      "Test set: Average loss: 0.3426, Accuracy: 9057/10000 (90.6%)\n",
      "\n",
      "\n",
      " TRAIN PRUNED MODEL DONE!\n"
     ]
    },
    {
     "name": "stderr",
     "output_type": "stream",
     "text": [
      "\n"
     ]
    }
   ],
   "source": [
    "from tqdm import tqdm\n",
    "#### 訓練函數 #####\n",
    "\n",
    "# 注意: 需自行撰寫儲存每個epoch之train acc的code，以便後續繪製train acc結果圖!\n",
    "\n",
    "def train(epoch):\n",
    "    model.train()\n",
    "    train_correct = 0\n",
    "    train_total = 0\n",
    "    train_loss = 0.0\n",
    "\n",
    "    for data, target in tqdm(train_loader):\n",
    "        if CUDA:\n",
    "            data, target = data.cuda(), target.cuda()\n",
    "        data, target = Variable(data), Variable(target)\n",
    "\n",
    "        optimizer.zero_grad()\n",
    "        output = model(data)\n",
    "        loss = criterion(output, target)\n",
    "        loss.backward()\n",
    "        optimizer.step()\n",
    "\n",
    "        pred = output.data.max(1, keepdim=True)[1]\n",
    "\n",
    "        # save training loss & acc \n",
    "        train_loss += loss.item() * data.size(0)\n",
    "        train_correct += pred.eq(target.data.view_as(pred)).cpu().sum()\n",
    "        train_total += target.size(0)\n",
    "\n",
    "        # if batch_idx % LOG_INTERVAL == 0:\n",
    "        #     print('\\nTrain Epoch: {} [{}/{} ({:.1f}%)]\\tLoss: {:.6f}'.format(\n",
    "        #         epoch, batch_idx * len(data), len(train_loader.dataset),\n",
    "        #         100. * batch_idx / len(train_loader), loss.data.item()))\n",
    "\n",
    "    train_loss = train_loss / len(train_loader.dataset)\n",
    "    train_acc = 100 * train_correct / train_total\n",
    "    train_losses.append(train_loss)\n",
    "    train_accuracies.append(train_acc)\n",
    "\n",
    "    print(f\"Epoch [{epoch+1}/{EPOCHS}] \"\n",
    "          f\"Train Loss: {train_loss:.4f} | Train Acc: {train_acc:.2f}%\")\n",
    "\n",
    "\n",
    "#### 測試函數 ####\n",
    "def test():\n",
    "    model.eval()\n",
    "    test_loss = 0.0\n",
    "    correct = 0\n",
    "    test_total = 0\n",
    "\n",
    "    with torch.no_grad():\n",
    "        for data, target in tqdm(test_loader):\n",
    "            if CUDA:\n",
    "                data, target = data.cuda(), target.cuda()\n",
    "            data, target = Variable(data), Variable(target)\n",
    "\n",
    "            output = model(data)\n",
    "            loss = criterion(output, target)\n",
    "            test_loss += loss.item() * data.size(0)\n",
    "\n",
    "            pred = output.data.max(1, keepdim=True)[1]\n",
    "            correct += pred.eq(target.data.view_as(pred)).cpu().sum()\n",
    "            test_total += target.size(0)\n",
    "\n",
    "        test_loss /= len(test_loader.dataset)\n",
    "\n",
    "        print('\\nTest set: Average loss: {:.4f}, Accuracy: {}/{} ({:.1f}%)\\n'.format(\n",
    "          test_loss, correct, len(test_loader.dataset),\n",
    "          100. * correct / len(test_loader.dataset)))\n",
    "      \n",
    "        test_acc = 100 * correct / test_total\n",
    "        test_losses.append(test_loss)\n",
    "        test_accuracies.append(test_acc)\n",
    "        return correct / float(len(test_loader.dataset))\n",
    "\n",
    "\n",
    "best_prec1 = 0.\n",
    "train_losses = []\n",
    "train_accuracies = []\n",
    "test_losses = []\n",
    "test_accuracies = []\n",
    "\n",
    "for epoch in range(START_EPOCH, EPOCHS):\n",
    "    # Learning Rate在0.5EPOCHS與0.75EPOCHS調整為原本之十分之一\n",
    "    if epoch in [EPOCHS*0.5, EPOCHS*0.75]:\n",
    "        for param_group in optimizer.param_groups:\n",
    "            param_group['lr'] *= 0.1\n",
    "    train(epoch)\n",
    "    prec1 = test()\n",
    "\n",
    "    # 儲存模型權重\n",
    "    if(prec1 > best_prec1):\n",
    "        best_prec1 = prec1\n",
    "        torch.save({\n",
    "            'epoch': epoch + 1,\n",
    "            'state_dict': model.state_dict(),\n",
    "            'best_prec1': best_prec1,\n",
    "            'optimizer': optimizer.state_dict(),\n",
    "            'cfg': cfg\n",
    "        }, PRUNE_FINETUNE_PATH)\n",
    "\n",
    "    best_prec1 = max(prec1, best_prec1)\n",
    "\n",
    "print('\\n TRAIN PRUNED MODEL DONE!')\n"
   ]
  },
  {
   "cell_type": "markdown",
   "metadata": {
    "id": "8I1zyyqmNtQk"
   },
   "source": [
    "## 繪製Fine-tuning結果圖\n"
   ]
  },
  {
   "cell_type": "code",
   "execution_count": 10,
   "metadata": {
    "id": "WH1VaayxN1Qj"
   },
   "outputs": [
    {
     "data": {
      "image/png": "[encoded data removed]",
      "text/plain": [
       "<Figure size 1500x500 with 1 Axes>"
      ]
     },
     "metadata": {},
     "output_type": "display_data"
    },
    {
     "data": {
      "image/png": "[encoded data removed]",
      "text/plain": [
       "<Figure size 1500x500 with 1 Axes>"
      ]
     },
     "metadata": {},
     "output_type": "display_data"
    }
   ],
   "source": [
    "#繪製Fine-tuning結果圖\n",
    "import matplotlib.pyplot as plt\n",
    "def plt_acc_all():\n",
    "    fig = plt.figure(figsize=(15, 5))\n",
    "    ax1 = fig.add_subplot(1, 2, 1)\n",
    "    ax1.set_title('All acc')\n",
    "\n",
    "    ax1.plot(train_accuracies)\n",
    "    ax1.plot(test_accuracies)\n",
    "\n",
    "    ax1.legend(['train_acc', 'test_acc'], loc='upper left')\n",
    "    ax1.set_xlabel('epoch')\n",
    "    plt.show()\n",
    "\n",
    "def plt_loss_all():\n",
    "    fig = plt.figure(figsize=(15, 5))\n",
    "    ax1 = fig.add_subplot(1, 2, 1)\n",
    "    ax1.set_title('All loss')\n",
    "\n",
    "    ax1.plot(train_losses)\n",
    "    ax1.plot(test_losses)\n",
    "\n",
    "    ax1.legend(['train_loss', 'test_loss'], loc='upper left')\n",
    "    ax1.set_xlabel('epoch')\n",
    "    plt.show()\n",
    "\n",
    "\n",
    "plt_loss_all()\n",
    "plt_acc_all()"
   ]
  },
  {
   "cell_type": "markdown",
   "metadata": {
    "id": "6YBefoSG12TQ"
   },
   "source": [
    "## FLOPs & Parameters"
   ]
  },
  {
   "cell_type": "code",
   "execution_count": 11,
   "metadata": {
    "id": "x6Ufr2LI1zzn"
   },
   "outputs": [
    {
     "name": "stdout",
     "output_type": "stream",
     "text": [
      "Requirement already satisfied: thop in c:\\users\\candy\\git_repo\\eai_lab\\.venv\\lib\\site-packages (0.1.1.post2209072238)\n",
      "Requirement already satisfied: torch in c:\\users\\candy\\git_repo\\eai_lab\\.venv\\lib\\site-packages (from thop) (2.8.0+cu129)\n",
      "Requirement already satisfied: filelock in c:\\users\\candy\\git_repo\\eai_lab\\.venv\\lib\\site-packages (from torch->thop) (3.20.0)\n",
      "Requirement already satisfied: typing-extensions>=4.10.0 in c:\\users\\candy\\git_repo\\eai_lab\\.venv\\lib\\site-packages (from torch->thop) (4.15.0)\n",
      "Requirement already satisfied: sympy>=1.13.3 in c:\\users\\candy\\git_repo\\eai_lab\\.venv\\lib\\site-packages (from torch->thop) (1.14.0)\n",
      "Requirement already satisfied: networkx in c:\\users\\candy\\git_repo\\eai_lab\\.venv\\lib\\site-packages (from torch->thop) (3.5)\n",
      "Requirement already satisfied: jinja2 in c:\\users\\candy\\git_repo\\eai_lab\\.venv\\lib\\site-packages (from torch->thop) (3.1.6)\n",
      "Requirement already satisfied: fsspec in c:\\users\\candy\\git_repo\\eai_lab\\.venv\\lib\\site-packages (from torch->thop) (2025.9.0)\n",
      "Requirement already satisfied: mpmath<1.4,>=1.1.0 in c:\\users\\candy\\git_repo\\eai_lab\\.venv\\lib\\site-packages (from sympy>=1.13.3->torch->thop) (1.3.0)\n",
      "Requirement already satisfied: MarkupSafe>=2.0 in c:\\users\\candy\\git_repo\\eai_lab\\.venv\\lib\\site-packages (from jinja2->torch->thop) (3.0.3)\n"
     ]
    },
    {
     "name": "stderr",
     "output_type": "stream",
     "text": [
      "\n",
      "[notice] A new release of pip is available: 25.2 -> 25.3\n",
      "[notice] To update, run: python.exe -m pip install --upgrade pip\n"
     ]
    },
    {
     "name": "stdout",
     "output_type": "stream",
     "text": [
      "Requirement already satisfied: torchsummary in c:\\users\\candy\\git_repo\\eai_lab\\.venv\\lib\\site-packages (1.5.1)\n"
     ]
    },
    {
     "name": "stderr",
     "output_type": "stream",
     "text": [
      "\n",
      "[notice] A new release of pip is available: 25.2 -> 25.3\n",
      "[notice] To update, run: python.exe -m pip install --upgrade pip\n"
     ]
    }
   ],
   "source": [
    "!pip install thop\n",
    "!pip install torchsummary"
   ]
  },
  {
   "cell_type": "code",
   "execution_count": 12,
   "metadata": {
    "id": "c0aEi9Al1-Yr"
   },
   "outputs": [
    {
     "name": "stdout",
     "output_type": "stream",
     "text": [
      "Device: cuda\n",
      "[INFO] Register count_convNd() for <class 'torch.nn.modules.conv.Conv2d'>.\n",
      "[INFO] Register count_normalization() for <class 'torch.nn.modules.batchnorm.BatchNorm2d'>.\n",
      "[INFO] Register zero_ops() for <class 'torch.nn.modules.activation.ReLU'>.\n",
      "[INFO] Register zero_ops() for <class 'torch.nn.modules.pooling.MaxPool2d'>.\n",
      "[INFO] Register zero_ops() for <class 'torch.nn.modules.container.Sequential'>.\n",
      "[INFO] Register count_adap_avgpool() for <class 'torch.nn.modules.pooling.AdaptiveAvgPool2d'>.\n",
      "[INFO] Register count_linear() for <class 'torch.nn.modules.linear.Linear'>.\n",
      "FLOPs: 130318480.0\n",
      "Params: 3736356.0\n",
      "----------------------------------------------------------------\n",
      "        Layer (type)               Output Shape         Param #\n",
      "================================================================\n",
      "            Conv2d-1           [-1, 64, 32, 32]           1,728\n",
      "       BatchNorm2d-2           [-1, 64, 32, 32]             128\n",
      "              ReLU-3           [-1, 64, 32, 32]               0\n",
      "         MaxPool2d-4           [-1, 64, 16, 16]               0\n",
      "            Conv2d-5           [-1, 64, 16, 16]           4,096\n",
      "       BatchNorm2d-6           [-1, 64, 16, 16]             128\n",
      "              ReLU-7           [-1, 64, 16, 16]               0\n",
      "            Conv2d-8           [-1, 64, 16, 16]          36,864\n",
      "       BatchNorm2d-9           [-1, 64, 16, 16]             128\n",
      "             ReLU-10           [-1, 64, 16, 16]               0\n",
      "           Conv2d-11          [-1, 256, 16, 16]          16,384\n",
      "      BatchNorm2d-12          [-1, 256, 16, 16]             512\n",
      "           Conv2d-13          [-1, 256, 16, 16]          16,384\n",
      "             ReLU-14          [-1, 256, 16, 16]               0\n",
      "       Bottleneck-15          [-1, 256, 16, 16]               0\n",
      "           Conv2d-16           [-1, 64, 16, 16]          16,384\n",
      "      BatchNorm2d-17           [-1, 64, 16, 16]             128\n",
      "             ReLU-18           [-1, 64, 16, 16]               0\n",
      "           Conv2d-19           [-1, 64, 16, 16]          36,864\n",
      "      BatchNorm2d-20           [-1, 64, 16, 16]             128\n",
      "             ReLU-21           [-1, 64, 16, 16]               0\n",
      "           Conv2d-22          [-1, 256, 16, 16]          16,384\n",
      "      BatchNorm2d-23          [-1, 256, 16, 16]             512\n",
      "             ReLU-24          [-1, 256, 16, 16]               0\n",
      "       Bottleneck-25          [-1, 256, 16, 16]               0\n",
      "           Conv2d-26           [-1, 64, 16, 16]          16,384\n",
      "      BatchNorm2d-27           [-1, 64, 16, 16]             128\n",
      "             ReLU-28           [-1, 64, 16, 16]               0\n",
      "           Conv2d-29           [-1, 64, 16, 16]          36,864\n",
      "      BatchNorm2d-30           [-1, 64, 16, 16]             128\n",
      "             ReLU-31           [-1, 64, 16, 16]               0\n",
      "           Conv2d-32          [-1, 256, 16, 16]          16,384\n",
      "      BatchNorm2d-33          [-1, 256, 16, 16]             512\n",
      "             ReLU-34          [-1, 256, 16, 16]               0\n",
      "       Bottleneck-35          [-1, 256, 16, 16]               0\n",
      "           Conv2d-36          [-1, 117, 16, 16]          29,952\n",
      "      BatchNorm2d-37          [-1, 117, 16, 16]             234\n",
      "             ReLU-38          [-1, 117, 16, 16]               0\n",
      "           Conv2d-39            [-1, 108, 8, 8]         113,724\n",
      "      BatchNorm2d-40            [-1, 108, 8, 8]             216\n",
      "             ReLU-41            [-1, 108, 8, 8]               0\n",
      "           Conv2d-42            [-1, 512, 8, 8]          55,296\n",
      "      BatchNorm2d-43            [-1, 512, 8, 8]           1,024\n",
      "           Conv2d-44            [-1, 512, 8, 8]         131,072\n",
      "             ReLU-45            [-1, 512, 8, 8]               0\n",
      "       Bottleneck-46            [-1, 512, 8, 8]               0\n",
      "           Conv2d-47             [-1, 78, 8, 8]          39,936\n",
      "      BatchNorm2d-48             [-1, 78, 8, 8]             156\n",
      "             ReLU-49             [-1, 78, 8, 8]               0\n",
      "           Conv2d-50            [-1, 117, 8, 8]          82,134\n",
      "      BatchNorm2d-51            [-1, 117, 8, 8]             234\n",
      "             ReLU-52            [-1, 117, 8, 8]               0\n",
      "           Conv2d-53            [-1, 512, 8, 8]          59,904\n",
      "      BatchNorm2d-54            [-1, 512, 8, 8]           1,024\n",
      "             ReLU-55            [-1, 512, 8, 8]               0\n",
      "       Bottleneck-56            [-1, 512, 8, 8]               0\n",
      "           Conv2d-57             [-1, 73, 8, 8]          37,376\n",
      "      BatchNorm2d-58             [-1, 73, 8, 8]             146\n",
      "             ReLU-59             [-1, 73, 8, 8]               0\n",
      "           Conv2d-60             [-1, 87, 8, 8]          57,159\n",
      "      BatchNorm2d-61             [-1, 87, 8, 8]             174\n",
      "             ReLU-62             [-1, 87, 8, 8]               0\n",
      "           Conv2d-63            [-1, 512, 8, 8]          44,544\n",
      "      BatchNorm2d-64            [-1, 512, 8, 8]           1,024\n",
      "             ReLU-65            [-1, 512, 8, 8]               0\n",
      "       Bottleneck-66            [-1, 512, 8, 8]               0\n",
      "           Conv2d-67             [-1, 54, 8, 8]          27,648\n",
      "      BatchNorm2d-68             [-1, 54, 8, 8]             108\n",
      "             ReLU-69             [-1, 54, 8, 8]               0\n",
      "           Conv2d-70             [-1, 59, 8, 8]          28,674\n",
      "      BatchNorm2d-71             [-1, 59, 8, 8]             118\n",
      "             ReLU-72             [-1, 59, 8, 8]               0\n",
      "           Conv2d-73            [-1, 512, 8, 8]          30,208\n",
      "      BatchNorm2d-74            [-1, 512, 8, 8]           1,024\n",
      "             ReLU-75            [-1, 512, 8, 8]               0\n",
      "       Bottleneck-76            [-1, 512, 8, 8]               0\n",
      "           Conv2d-77             [-1, 13, 8, 8]           6,656\n",
      "      BatchNorm2d-78             [-1, 13, 8, 8]              26\n",
      "             ReLU-79             [-1, 13, 8, 8]               0\n",
      "           Conv2d-80              [-1, 9, 4, 4]           1,053\n",
      "      BatchNorm2d-81              [-1, 9, 4, 4]              18\n",
      "             ReLU-82              [-1, 9, 4, 4]               0\n",
      "           Conv2d-83           [-1, 1024, 4, 4]           9,216\n",
      "      BatchNorm2d-84           [-1, 1024, 4, 4]           2,048\n",
      "           Conv2d-85           [-1, 1024, 4, 4]         524,288\n",
      "             ReLU-86           [-1, 1024, 4, 4]               0\n",
      "       Bottleneck-87           [-1, 1024, 4, 4]               0\n",
      "           Conv2d-88              [-1, 6, 4, 4]           6,144\n",
      "      BatchNorm2d-89              [-1, 6, 4, 4]              12\n",
      "             ReLU-90              [-1, 6, 4, 4]               0\n",
      "           Conv2d-91             [-1, 10, 4, 4]             540\n",
      "      BatchNorm2d-92             [-1, 10, 4, 4]              20\n",
      "             ReLU-93             [-1, 10, 4, 4]               0\n",
      "           Conv2d-94           [-1, 1024, 4, 4]          10,240\n",
      "      BatchNorm2d-95           [-1, 1024, 4, 4]           2,048\n",
      "             ReLU-96           [-1, 1024, 4, 4]               0\n",
      "       Bottleneck-97           [-1, 1024, 4, 4]               0\n",
      "           Conv2d-98              [-1, 3, 4, 4]           3,072\n",
      "      BatchNorm2d-99              [-1, 3, 4, 4]               6\n",
      "            ReLU-100              [-1, 3, 4, 4]               0\n",
      "          Conv2d-101              [-1, 5, 4, 4]             135\n",
      "     BatchNorm2d-102              [-1, 5, 4, 4]              10\n",
      "            ReLU-103              [-1, 5, 4, 4]               0\n",
      "          Conv2d-104           [-1, 1024, 4, 4]           5,120\n",
      "     BatchNorm2d-105           [-1, 1024, 4, 4]           2,048\n",
      "            ReLU-106           [-1, 1024, 4, 4]               0\n",
      "      Bottleneck-107           [-1, 1024, 4, 4]               0\n",
      "          Conv2d-108              [-1, 3, 4, 4]           3,072\n",
      "     BatchNorm2d-109              [-1, 3, 4, 4]               6\n",
      "            ReLU-110              [-1, 3, 4, 4]               0\n",
      "          Conv2d-111              [-1, 3, 4, 4]              81\n",
      "     BatchNorm2d-112              [-1, 3, 4, 4]               6\n",
      "            ReLU-113              [-1, 3, 4, 4]               0\n",
      "          Conv2d-114           [-1, 1024, 4, 4]           3,072\n",
      "     BatchNorm2d-115           [-1, 1024, 4, 4]           2,048\n",
      "            ReLU-116           [-1, 1024, 4, 4]               0\n",
      "      Bottleneck-117           [-1, 1024, 4, 4]               0\n",
      "          Conv2d-118              [-1, 3, 4, 4]           3,072\n",
      "     BatchNorm2d-119              [-1, 3, 4, 4]               6\n",
      "            ReLU-120              [-1, 3, 4, 4]               0\n",
      "          Conv2d-121              [-1, 3, 4, 4]              81\n",
      "     BatchNorm2d-122              [-1, 3, 4, 4]               6\n",
      "            ReLU-123              [-1, 3, 4, 4]               0\n",
      "          Conv2d-124           [-1, 1024, 4, 4]           3,072\n",
      "     BatchNorm2d-125           [-1, 1024, 4, 4]           2,048\n",
      "            ReLU-126           [-1, 1024, 4, 4]               0\n",
      "      Bottleneck-127           [-1, 1024, 4, 4]               0\n",
      "          Conv2d-128              [-1, 3, 4, 4]           3,072\n",
      "     BatchNorm2d-129              [-1, 3, 4, 4]               6\n",
      "            ReLU-130              [-1, 3, 4, 4]               0\n",
      "          Conv2d-131              [-1, 3, 4, 4]              81\n",
      "     BatchNorm2d-132              [-1, 3, 4, 4]               6\n",
      "            ReLU-133              [-1, 3, 4, 4]               0\n",
      "          Conv2d-134           [-1, 1024, 4, 4]           3,072\n",
      "     BatchNorm2d-135           [-1, 1024, 4, 4]           2,048\n",
      "            ReLU-136           [-1, 1024, 4, 4]               0\n",
      "      Bottleneck-137           [-1, 1024, 4, 4]               0\n",
      "          Conv2d-138              [-1, 3, 4, 4]           3,072\n",
      "     BatchNorm2d-139              [-1, 3, 4, 4]               6\n",
      "            ReLU-140              [-1, 3, 4, 4]               0\n",
      "          Conv2d-141              [-1, 3, 2, 2]              81\n",
      "     BatchNorm2d-142              [-1, 3, 2, 2]               6\n",
      "            ReLU-143              [-1, 3, 2, 2]               0\n",
      "          Conv2d-144           [-1, 2048, 2, 2]           6,144\n",
      "     BatchNorm2d-145           [-1, 2048, 2, 2]           4,096\n",
      "          Conv2d-146           [-1, 2048, 2, 2]       2,097,152\n",
      "            ReLU-147           [-1, 2048, 2, 2]               0\n",
      "      Bottleneck-148           [-1, 2048, 2, 2]               0\n",
      "          Conv2d-149              [-1, 3, 2, 2]           6,144\n",
      "     BatchNorm2d-150              [-1, 3, 2, 2]               6\n",
      "            ReLU-151              [-1, 3, 2, 2]               0\n",
      "          Conv2d-152             [-1, 10, 2, 2]             270\n",
      "     BatchNorm2d-153             [-1, 10, 2, 2]              20\n",
      "            ReLU-154             [-1, 10, 2, 2]               0\n",
      "          Conv2d-155           [-1, 2048, 2, 2]          20,480\n",
      "     BatchNorm2d-156           [-1, 2048, 2, 2]           4,096\n",
      "            ReLU-157           [-1, 2048, 2, 2]               0\n",
      "      Bottleneck-158           [-1, 2048, 2, 2]               0\n",
      "          Conv2d-159              [-1, 3, 2, 2]           6,144\n",
      "     BatchNorm2d-160              [-1, 3, 2, 2]               6\n",
      "            ReLU-161              [-1, 3, 2, 2]               0\n",
      "          Conv2d-162              [-1, 3, 2, 2]              81\n",
      "     BatchNorm2d-163              [-1, 3, 2, 2]               6\n",
      "            ReLU-164              [-1, 3, 2, 2]               0\n",
      "          Conv2d-165           [-1, 2048, 2, 2]           6,144\n",
      "     BatchNorm2d-166           [-1, 2048, 2, 2]           4,096\n",
      "            ReLU-167           [-1, 2048, 2, 2]               0\n",
      "      Bottleneck-168           [-1, 2048, 2, 2]               0\n",
      "AdaptiveAvgPool2d-169           [-1, 2048, 1, 1]               0\n",
      "          Linear-170                   [-1, 10]          20,490\n",
      "================================================================\n",
      "Total params: 3,736,356\n",
      "Trainable params: 3,736,356\n",
      "Non-trainable params: 0\n",
      "----------------------------------------------------------------\n",
      "Input size (MB): 0.01\n",
      "Forward/backward pass size (MB): 20.15\n",
      "Params size (MB): 14.25\n",
      "Estimated Total Size (MB): 34.41\n",
      "----------------------------------------------------------------\n"
     ]
    }
   ],
   "source": [
    "from thop import profile\n",
    "from torchsummary import summary\n",
    "\n",
    "##### 使用 thop 計算 FLOPs 和參數數量 #####\n",
    "device = torch.device(\"cuda\" if torch.cuda.is_available() else \"cpu\")\n",
    "print(f\"Device: {device}\")\n",
    "model = model.to(device)\n",
    "\n",
    "dummy_input = torch.randn(1, 3, 32, 32).to(device)\n",
    "flops, params = profile(model, inputs=(dummy_input, ))\n",
    "\n",
    "print(f\"FLOPs: {flops}\")\n",
    "print(f\"Params: {params}\")\n",
    "summary(model, input_size=(3, 32, 32))"
   ]
  }
 ],
 "metadata": {
  "accelerator": "GPU",
  "colab": {
   "gpuType": "T4",
   "provenance": []
  },
  "kernelspec": {
   "display_name": ".venv",
   "language": "python",
   "name": "python3"
  },
  "language_info": {
   "codemirror_mode": {
    "name": "ipython",
    "version": 3
   },
   "file_extension": ".py",
   "mimetype": "text/x-python",
   "name": "python",
   "nbconvert_exporter": "python",
   "pygments_lexer": "ipython3",
   "version": "3.11.9"
  }
 },
 "nbformat": 4,
 "nbformat_minor": 0
}
