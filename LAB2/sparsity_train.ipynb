{
 "cells": [
  {
   "cell_type": "markdown",
   "metadata": {
    "id": "U3at1mhslz9v"
   },
   "source": [
    "## 掛載雲端硬碟\n"
   ]
  },
  {
   "cell_type": "code",
   "execution_count": 1,
   "metadata": {
    "id": "ijtFdN9tl14V"
   },
   "outputs": [],
   "source": [
    "# from google.colab import drive\n",
    "# drive.mount('/content/drive')"
   ]
  },
  {
   "cell_type": "markdown",
   "metadata": {
    "id": "q5bhyRZrl4X2"
   },
   "source": [
    "## 更改檔案所在路徑"
   ]
  },
  {
   "cell_type": "code",
   "execution_count": 2,
   "metadata": {
    "id": "f2RXiD5Bl6a2"
   },
   "outputs": [],
   "source": [
    "# # Change to your own folder !!!\n",
    "# %cd /content/drive/MyDrive/your own folder/"
   ]
  },
  {
   "cell_type": "markdown",
   "metadata": {
    "id": "gSal5HL0lTHA"
   },
   "source": [
    "## Import library"
   ]
  },
  {
   "cell_type": "code",
   "execution_count": 3,
   "metadata": {
    "id": "6v2iM_kglWj-"
   },
   "outputs": [],
   "source": [
    "import os\n",
    "import argparse\n",
    "\n",
    "import torch\n",
    "import torch.nn as nn\n",
    "import torch.nn.functional as F\n",
    "import torch.optim as optim\n",
    "from torchvision import datasets, transforms\n",
    "from torch.autograd import Variable\n",
    "\n",
    "from models.resnet import ResNet50"
   ]
  },
  {
   "cell_type": "markdown",
   "metadata": {
    "id": "gG5c0rMW_uan"
   },
   "source": [
    "## FLOPs & Parameters & Architecture\n",
    "若`resnet.py`有寫對，這部分會能夠正常跑，且 parameters 應為 23513162。\n",
    "\n",
    "你也可以寫一個剪枝後可能的 cfg 作為模型的輸入參數，看這部分印出來的架構是否正確。"
   ]
  },
  {
   "cell_type": "code",
   "execution_count": 4,
   "metadata": {
    "id": "FY0z131G7rlA"
   },
   "outputs": [
    {
     "name": "stdout",
     "output_type": "stream",
     "text": [
      "Device: cuda\n",
      "[INFO] Register count_convNd() for <class 'torch.nn.modules.conv.Conv2d'>.\n",
      "[INFO] Register count_normalization() for <class 'torch.nn.modules.batchnorm.BatchNorm2d'>.\n",
      "[INFO] Register zero_ops() for <class 'torch.nn.modules.activation.ReLU'>.\n",
      "[INFO] Register zero_ops() for <class 'torch.nn.modules.pooling.MaxPool2d'>.\n",
      "[INFO] Register zero_ops() for <class 'torch.nn.modules.container.Sequential'>.\n",
      "[INFO] Register count_adap_avgpool() for <class 'torch.nn.modules.pooling.AdaptiveAvgPool2d'>.\n",
      "[INFO] Register count_linear() for <class 'torch.nn.modules.linear.Linear'>.\n",
      "FLOPs: 328947712.0\n",
      "Params: 23513162.0\n",
      "----------------------------------------------------------------\n",
      "        Layer (type)               Output Shape         Param #\n",
      "================================================================\n",
      "            Conv2d-1           [-1, 64, 32, 32]           1,728\n",
      "       BatchNorm2d-2           [-1, 64, 32, 32]             128\n",
      "              ReLU-3           [-1, 64, 32, 32]               0\n",
      "         MaxPool2d-4           [-1, 64, 16, 16]               0\n",
      "            Conv2d-5           [-1, 64, 16, 16]           4,096\n",
      "       BatchNorm2d-6           [-1, 64, 16, 16]             128\n",
      "              ReLU-7           [-1, 64, 16, 16]               0\n",
      "            Conv2d-8           [-1, 64, 16, 16]          36,864\n",
      "       BatchNorm2d-9           [-1, 64, 16, 16]             128\n",
      "             ReLU-10           [-1, 64, 16, 16]               0\n",
      "           Conv2d-11          [-1, 256, 16, 16]          16,384\n",
      "      BatchNorm2d-12          [-1, 256, 16, 16]             512\n",
      "           Conv2d-13          [-1, 256, 16, 16]          16,384\n",
      "             ReLU-14          [-1, 256, 16, 16]               0\n",
      "       Bottleneck-15          [-1, 256, 16, 16]               0\n",
      "           Conv2d-16           [-1, 64, 16, 16]          16,384\n",
      "      BatchNorm2d-17           [-1, 64, 16, 16]             128\n",
      "             ReLU-18           [-1, 64, 16, 16]               0\n",
      "           Conv2d-19           [-1, 64, 16, 16]          36,864\n",
      "      BatchNorm2d-20           [-1, 64, 16, 16]             128\n",
      "             ReLU-21           [-1, 64, 16, 16]               0\n",
      "           Conv2d-22          [-1, 256, 16, 16]          16,384\n",
      "      BatchNorm2d-23          [-1, 256, 16, 16]             512\n",
      "             ReLU-24          [-1, 256, 16, 16]               0\n",
      "       Bottleneck-25          [-1, 256, 16, 16]               0\n",
      "           Conv2d-26           [-1, 64, 16, 16]          16,384\n",
      "      BatchNorm2d-27           [-1, 64, 16, 16]             128\n",
      "             ReLU-28           [-1, 64, 16, 16]               0\n",
      "           Conv2d-29           [-1, 64, 16, 16]          36,864\n",
      "      BatchNorm2d-30           [-1, 64, 16, 16]             128\n",
      "             ReLU-31           [-1, 64, 16, 16]               0\n",
      "           Conv2d-32          [-1, 256, 16, 16]          16,384\n",
      "      BatchNorm2d-33          [-1, 256, 16, 16]             512\n",
      "             ReLU-34          [-1, 256, 16, 16]               0\n",
      "       Bottleneck-35          [-1, 256, 16, 16]               0\n",
      "           Conv2d-36          [-1, 128, 16, 16]          32,768\n",
      "      BatchNorm2d-37          [-1, 128, 16, 16]             256\n",
      "             ReLU-38          [-1, 128, 16, 16]               0\n",
      "           Conv2d-39            [-1, 128, 8, 8]         147,456\n",
      "      BatchNorm2d-40            [-1, 128, 8, 8]             256\n",
      "             ReLU-41            [-1, 128, 8, 8]               0\n",
      "           Conv2d-42            [-1, 512, 8, 8]          65,536\n",
      "      BatchNorm2d-43            [-1, 512, 8, 8]           1,024\n",
      "           Conv2d-44            [-1, 512, 8, 8]         131,072\n",
      "             ReLU-45            [-1, 512, 8, 8]               0\n",
      "       Bottleneck-46            [-1, 512, 8, 8]               0\n",
      "           Conv2d-47            [-1, 128, 8, 8]          65,536\n",
      "      BatchNorm2d-48            [-1, 128, 8, 8]             256\n",
      "             ReLU-49            [-1, 128, 8, 8]               0\n",
      "           Conv2d-50            [-1, 128, 8, 8]         147,456\n",
      "      BatchNorm2d-51            [-1, 128, 8, 8]             256\n",
      "             ReLU-52            [-1, 128, 8, 8]               0\n",
      "           Conv2d-53            [-1, 512, 8, 8]          65,536\n",
      "      BatchNorm2d-54            [-1, 512, 8, 8]           1,024\n",
      "             ReLU-55            [-1, 512, 8, 8]               0\n",
      "       Bottleneck-56            [-1, 512, 8, 8]               0\n",
      "           Conv2d-57            [-1, 128, 8, 8]          65,536\n",
      "      BatchNorm2d-58            [-1, 128, 8, 8]             256\n",
      "             ReLU-59            [-1, 128, 8, 8]               0\n",
      "           Conv2d-60            [-1, 128, 8, 8]         147,456\n",
      "      BatchNorm2d-61            [-1, 128, 8, 8]             256\n",
      "             ReLU-62            [-1, 128, 8, 8]               0\n",
      "           Conv2d-63            [-1, 512, 8, 8]          65,536\n",
      "      BatchNorm2d-64            [-1, 512, 8, 8]           1,024\n",
      "             ReLU-65            [-1, 512, 8, 8]               0\n",
      "       Bottleneck-66            [-1, 512, 8, 8]               0\n",
      "           Conv2d-67            [-1, 128, 8, 8]          65,536\n",
      "      BatchNorm2d-68            [-1, 128, 8, 8]             256\n",
      "             ReLU-69            [-1, 128, 8, 8]               0\n",
      "           Conv2d-70            [-1, 128, 8, 8]         147,456\n",
      "      BatchNorm2d-71            [-1, 128, 8, 8]             256\n",
      "             ReLU-72            [-1, 128, 8, 8]               0\n",
      "           Conv2d-73            [-1, 512, 8, 8]          65,536\n",
      "      BatchNorm2d-74            [-1, 512, 8, 8]           1,024\n",
      "             ReLU-75            [-1, 512, 8, 8]               0\n",
      "       Bottleneck-76            [-1, 512, 8, 8]               0\n",
      "           Conv2d-77            [-1, 256, 8, 8]         131,072\n",
      "      BatchNorm2d-78            [-1, 256, 8, 8]             512\n",
      "             ReLU-79            [-1, 256, 8, 8]               0\n",
      "           Conv2d-80            [-1, 256, 4, 4]         589,824\n",
      "      BatchNorm2d-81            [-1, 256, 4, 4]             512\n",
      "             ReLU-82            [-1, 256, 4, 4]               0\n",
      "           Conv2d-83           [-1, 1024, 4, 4]         262,144\n",
      "      BatchNorm2d-84           [-1, 1024, 4, 4]           2,048\n",
      "           Conv2d-85           [-1, 1024, 4, 4]         524,288\n",
      "             ReLU-86           [-1, 1024, 4, 4]               0\n",
      "       Bottleneck-87           [-1, 1024, 4, 4]               0\n",
      "           Conv2d-88            [-1, 256, 4, 4]         262,144\n",
      "      BatchNorm2d-89            [-1, 256, 4, 4]             512\n",
      "             ReLU-90            [-1, 256, 4, 4]               0\n",
      "           Conv2d-91            [-1, 256, 4, 4]         589,824\n",
      "      BatchNorm2d-92            [-1, 256, 4, 4]             512\n",
      "             ReLU-93            [-1, 256, 4, 4]               0\n",
      "           Conv2d-94           [-1, 1024, 4, 4]         262,144\n",
      "      BatchNorm2d-95           [-1, 1024, 4, 4]           2,048\n",
      "             ReLU-96           [-1, 1024, 4, 4]               0\n",
      "       Bottleneck-97           [-1, 1024, 4, 4]               0\n",
      "           Conv2d-98            [-1, 256, 4, 4]         262,144\n",
      "      BatchNorm2d-99            [-1, 256, 4, 4]             512\n",
      "            ReLU-100            [-1, 256, 4, 4]               0\n",
      "          Conv2d-101            [-1, 256, 4, 4]         589,824\n",
      "     BatchNorm2d-102            [-1, 256, 4, 4]             512\n",
      "            ReLU-103            [-1, 256, 4, 4]               0\n",
      "          Conv2d-104           [-1, 1024, 4, 4]         262,144\n",
      "     BatchNorm2d-105           [-1, 1024, 4, 4]           2,048\n",
      "            ReLU-106           [-1, 1024, 4, 4]               0\n",
      "      Bottleneck-107           [-1, 1024, 4, 4]               0\n",
      "          Conv2d-108            [-1, 256, 4, 4]         262,144\n",
      "     BatchNorm2d-109            [-1, 256, 4, 4]             512\n",
      "            ReLU-110            [-1, 256, 4, 4]               0\n",
      "          Conv2d-111            [-1, 256, 4, 4]         589,824\n",
      "     BatchNorm2d-112            [-1, 256, 4, 4]             512\n",
      "            ReLU-113            [-1, 256, 4, 4]               0\n",
      "          Conv2d-114           [-1, 1024, 4, 4]         262,144\n",
      "     BatchNorm2d-115           [-1, 1024, 4, 4]           2,048\n",
      "            ReLU-116           [-1, 1024, 4, 4]               0\n",
      "      Bottleneck-117           [-1, 1024, 4, 4]               0\n",
      "          Conv2d-118            [-1, 256, 4, 4]         262,144\n",
      "     BatchNorm2d-119            [-1, 256, 4, 4]             512\n",
      "            ReLU-120            [-1, 256, 4, 4]               0\n",
      "          Conv2d-121            [-1, 256, 4, 4]         589,824\n",
      "     BatchNorm2d-122            [-1, 256, 4, 4]             512\n",
      "            ReLU-123            [-1, 256, 4, 4]               0\n",
      "          Conv2d-124           [-1, 1024, 4, 4]         262,144\n",
      "     BatchNorm2d-125           [-1, 1024, 4, 4]           2,048\n",
      "            ReLU-126           [-1, 1024, 4, 4]               0\n",
      "      Bottleneck-127           [-1, 1024, 4, 4]               0\n",
      "          Conv2d-128            [-1, 256, 4, 4]         262,144\n",
      "     BatchNorm2d-129            [-1, 256, 4, 4]             512\n",
      "            ReLU-130            [-1, 256, 4, 4]               0\n",
      "          Conv2d-131            [-1, 256, 4, 4]         589,824\n",
      "     BatchNorm2d-132            [-1, 256, 4, 4]             512\n",
      "            ReLU-133            [-1, 256, 4, 4]               0\n",
      "          Conv2d-134           [-1, 1024, 4, 4]         262,144\n",
      "     BatchNorm2d-135           [-1, 1024, 4, 4]           2,048\n",
      "            ReLU-136           [-1, 1024, 4, 4]               0\n",
      "      Bottleneck-137           [-1, 1024, 4, 4]               0\n",
      "          Conv2d-138            [-1, 512, 4, 4]         524,288\n",
      "     BatchNorm2d-139            [-1, 512, 4, 4]           1,024\n",
      "            ReLU-140            [-1, 512, 4, 4]               0\n",
      "          Conv2d-141            [-1, 512, 2, 2]       2,359,296\n",
      "     BatchNorm2d-142            [-1, 512, 2, 2]           1,024\n",
      "            ReLU-143            [-1, 512, 2, 2]               0\n",
      "          Conv2d-144           [-1, 2048, 2, 2]       1,048,576\n",
      "     BatchNorm2d-145           [-1, 2048, 2, 2]           4,096\n",
      "          Conv2d-146           [-1, 2048, 2, 2]       2,097,152\n",
      "            ReLU-147           [-1, 2048, 2, 2]               0\n",
      "      Bottleneck-148           [-1, 2048, 2, 2]               0\n",
      "          Conv2d-149            [-1, 512, 2, 2]       1,048,576\n",
      "     BatchNorm2d-150            [-1, 512, 2, 2]           1,024\n",
      "            ReLU-151            [-1, 512, 2, 2]               0\n",
      "          Conv2d-152            [-1, 512, 2, 2]       2,359,296\n",
      "     BatchNorm2d-153            [-1, 512, 2, 2]           1,024\n",
      "            ReLU-154            [-1, 512, 2, 2]               0\n",
      "          Conv2d-155           [-1, 2048, 2, 2]       1,048,576\n",
      "     BatchNorm2d-156           [-1, 2048, 2, 2]           4,096\n",
      "            ReLU-157           [-1, 2048, 2, 2]               0\n",
      "      Bottleneck-158           [-1, 2048, 2, 2]               0\n",
      "          Conv2d-159            [-1, 512, 2, 2]       1,048,576\n",
      "     BatchNorm2d-160            [-1, 512, 2, 2]           1,024\n",
      "            ReLU-161            [-1, 512, 2, 2]               0\n",
      "          Conv2d-162            [-1, 512, 2, 2]       2,359,296\n",
      "     BatchNorm2d-163            [-1, 512, 2, 2]           1,024\n",
      "            ReLU-164            [-1, 512, 2, 2]               0\n",
      "          Conv2d-165           [-1, 2048, 2, 2]       1,048,576\n",
      "     BatchNorm2d-166           [-1, 2048, 2, 2]           4,096\n",
      "            ReLU-167           [-1, 2048, 2, 2]               0\n",
      "      Bottleneck-168           [-1, 2048, 2, 2]               0\n",
      "AdaptiveAvgPool2d-169           [-1, 2048, 1, 1]               0\n",
      "          Linear-170                   [-1, 10]          20,490\n",
      "================================================================\n",
      "Total params: 23,513,162\n",
      "Trainable params: 23,513,162\n",
      "Non-trainable params: 0\n",
      "----------------------------------------------------------------\n",
      "Input size (MB): 0.01\n",
      "Forward/backward pass size (MB): 22.47\n",
      "Params size (MB): 89.70\n",
      "Estimated Total Size (MB): 112.18\n",
      "----------------------------------------------------------------\n"
     ]
    }
   ],
   "source": [
    "from thop import profile\n",
    "from torchsummary import summary\n",
    "from tqdm import tqdm\n",
    "\n",
    "model = ResNet50(num_classes=10)\n",
    "\n",
    "device = torch.device(\"cuda\" if torch.cuda.is_available() else \"cpu\")\n",
    "print(f\"Device: {device}\")\n",
    "model = model.to(device)\n",
    "\n",
    "dummy_input = torch.randn(1, 3, 32, 32).to(device)\n",
    "flops, params = profile(model, inputs=(dummy_input, ))\n",
    "\n",
    "print(f\"FLOPs: {flops}\")\n",
    "print(f\"Params: {params}\")\n",
    "summary(model, input_size=(3, 32, 32))"
   ]
  },
  {
   "cell_type": "markdown",
   "metadata": {
    "id": "yFgiQGL6mq6W"
   },
   "source": [
    "## 設定超參數(請填空 λ)"
   ]
  },
  {
   "cell_type": "code",
   "execution_count": 5,
   "metadata": {
    "id": "a8FQ-IsUmqtP"
   },
   "outputs": [],
   "source": [
    "SPARSITY_REGULARIZATION = True\n",
    "#### 設定λ(balance factor) ####\n",
    "################################################\n",
    "#          請填空          #\n",
    "################################################\n",
    "LAMBDA = 1e-4\n",
    "\n",
    "SEED = 1\n",
    "TRAIN_BATCH_SIZE = 100\n",
    "TEST_BATCH_SIZE = 1000\n",
    "\n",
    "EPOCHS = 40\n",
    "LEARNING_RATE = 1e-3\n",
    "\n",
    "LOG_INTERVAL = 100\n",
    "CUDA = True\n",
    "\n",
    "RESUME = False\n",
    "START_EPOCH = 0\n",
    "\n",
    "WEIGHT_PATH = './model_best.pth' # Change to your own folder !!!"
   ]
  },
  {
   "cell_type": "code",
   "execution_count": 6,
   "metadata": {
    "id": "_Sa1Tmnym3Pn"
   },
   "outputs": [],
   "source": [
    "if(torch.cuda.is_available()):\n",
    "    CUDA = True\n",
    "    kwargs = {'num_workers': 1, 'pin_memory': True}\n",
    "    torch.cuda.manual_seed(SEED)\n",
    "else:\n",
    "    CUDA = False\n",
    "    kwargs = {}\n"
   ]
  },
  {
   "cell_type": "markdown",
   "metadata": {
    "id": "fylf4FTlm7QX"
   },
   "source": [
    "## 下載資料集\n"
   ]
  },
  {
   "cell_type": "markdown",
   "metadata": {
    "id": "erS9S_76nUsG"
   },
   "source": [
    "這裡將訓練集做Augmentation(Pad, RandCrop, Random)，測試集不用做Augmentation"
   ]
  },
  {
   "cell_type": "code",
   "execution_count": 7,
   "metadata": {
    "id": "vBW21uIHm_C-"
   },
   "outputs": [],
   "source": [
    "#### 資料集 ####\n",
    "train_loader = torch.utils.data.DataLoader(\n",
    "    datasets.CIFAR10('./data', train=True, download=True,\n",
    "                   transform=transforms.Compose([\n",
    "                       transforms.Pad(4),\n",
    "                       transforms.RandomCrop(32),\n",
    "                       transforms.RandomHorizontalFlip(),\n",
    "                       transforms.ToTensor(),\n",
    "                       transforms.Normalize((0.4914, 0.4822, 0.4465), (0.2023, 0.1994, 0.2010))\n",
    "                   ])),\n",
    "    batch_size=TRAIN_BATCH_SIZE, shuffle=True, **kwargs)\n",
    "test_loader = torch.utils.data.DataLoader(\n",
    "    datasets.CIFAR10('./data', train=False, transform=transforms.Compose([\n",
    "                       transforms.ToTensor(),\n",
    "                       transforms.Normalize((0.4914, 0.4822, 0.4465), (0.2023, 0.1994, 0.2010))\n",
    "                   ])),\n",
    "    batch_size=TEST_BATCH_SIZE, shuffle=True, **kwargs)"
   ]
  },
  {
   "cell_type": "markdown",
   "metadata": {
    "id": "Is49FKBbuRj2"
   },
   "source": [
    "## 定義模型與設定Optimizer & CrossEntropy Loss\n"
   ]
  },
  {
   "cell_type": "code",
   "execution_count": 8,
   "metadata": {
    "id": "SUbUcHN4uQ89"
   },
   "outputs": [],
   "source": [
    "model = ResNet50(num_classes=10)\n",
    "if CUDA:\n",
    "    model.cuda()\n",
    "\n",
    "optimizer = optim.Adam(model.parameters(), lr=LEARNING_RATE)\n",
    "# optimizer = optim.SGD(model.parameters(), lr=LEARNING_RATE, momentum=0.9, weight_decay=1e-4)\n",
    "# scheduler = optim.lr_scheduler.StepLR(optimizer, step_size=3, gamma=0.7)\n",
    "criterion = nn.CrossEntropyLoss()"
   ]
  },
  {
   "cell_type": "markdown",
   "metadata": {
    "id": "txRrgb22vLD9"
   },
   "source": [
    "## 使用論文中稀疏化的方式更新參數(請填空)"
   ]
  },
  {
   "cell_type": "code",
   "execution_count": 9,
   "metadata": {
    "id": "O7ekcGWXvcXu"
   },
   "outputs": [],
   "source": [
    "def updateBN():\n",
    "  for m in model.modules():\n",
    "      if isinstance(m, nn.BatchNorm2d):\n",
    "          #### 完成Sparsity Regularization ####\n",
    "          ################################################\n",
    "          #          請填空          #\n",
    "          ################################################\n",
    "        m.weight.grad.data.add_(LAMBDA * torch.sign(m.weight.data))\n"
   ]
  },
  {
   "cell_type": "markdown",
   "metadata": {
    "id": "gR2UTh0iwbEF"
   },
   "source": [
    "## 定義訓練跟測試函數\n",
    "需自行撰寫儲存每個epoch之train acc與test acc的code，以便後續繪製train acc與test acc結果圖!"
   ]
  },
  {
   "cell_type": "code",
   "execution_count": 10,
   "metadata": {
    "id": "hQcKuMDee46V"
   },
   "outputs": [
    {
     "name": "stdout",
     "output_type": "stream",
     "text": [
      "No saved model found, starting from scratch.\n",
      "running epoch: 1\n"
     ]
    },
    {
     "name": "stderr",
     "output_type": "stream",
     "text": [
      "100%|██████████| 500/500 [00:30<00:00, 16.50it/s]\n"
     ]
    },
    {
     "name": "stdout",
     "output_type": "stream",
     "text": [
      "Epoch [1/40] Train Loss: 1.7805 | Train Acc: 35.70%\n"
     ]
    },
    {
     "name": "stderr",
     "output_type": "stream",
     "text": [
      "100%|██████████| 10/10 [00:01<00:00,  6.43it/s]\n"
     ]
    },
    {
     "name": "stdout",
     "output_type": "stream",
     "text": [
      "\n",
      "Test set: Average loss: 1.3451, Accuracy: 5054/10000 (50.5%)\n",
      "\n",
      "new best model weight, saving...\n",
      "running epoch: 2\n"
     ]
    },
    {
     "name": "stderr",
     "output_type": "stream",
     "text": [
      "100%|██████████| 500/500 [00:29<00:00, 16.77it/s]\n"
     ]
    },
    {
     "name": "stdout",
     "output_type": "stream",
     "text": [
      "Epoch [2/40] Train Loss: 1.2764 | Train Acc: 53.73%\n"
     ]
    },
    {
     "name": "stderr",
     "output_type": "stream",
     "text": [
      "100%|██████████| 10/10 [00:01<00:00,  6.58it/s]\n"
     ]
    },
    {
     "name": "stdout",
     "output_type": "stream",
     "text": [
      "\n",
      "Test set: Average loss: 1.3781, Accuracy: 5144/10000 (51.4%)\n",
      "\n",
      "new best model weight, saving...\n",
      "running epoch: 3\n"
     ]
    },
    {
     "name": "stderr",
     "output_type": "stream",
     "text": [
      "100%|██████████| 500/500 [00:29<00:00, 16.77it/s]\n"
     ]
    },
    {
     "name": "stdout",
     "output_type": "stream",
     "text": [
      "Epoch [3/40] Train Loss: 1.0639 | Train Acc: 62.08%\n"
     ]
    },
    {
     "name": "stderr",
     "output_type": "stream",
     "text": [
      "100%|██████████| 10/10 [00:01<00:00,  6.47it/s]\n"
     ]
    },
    {
     "name": "stdout",
     "output_type": "stream",
     "text": [
      "\n",
      "Test set: Average loss: 1.0885, Accuracy: 6346/10000 (63.5%)\n",
      "\n",
      "new best model weight, saving...\n",
      "running epoch: 4\n"
     ]
    },
    {
     "name": "stderr",
     "output_type": "stream",
     "text": [
      "100%|██████████| 500/500 [00:29<00:00, 16.69it/s]\n"
     ]
    },
    {
     "name": "stdout",
     "output_type": "stream",
     "text": [
      "Epoch [4/40] Train Loss: 0.9146 | Train Acc: 67.57%\n"
     ]
    },
    {
     "name": "stderr",
     "output_type": "stream",
     "text": [
      "100%|██████████| 10/10 [00:01<00:00,  6.52it/s]\n"
     ]
    },
    {
     "name": "stdout",
     "output_type": "stream",
     "text": [
      "\n",
      "Test set: Average loss: 1.0001, Accuracy: 6689/10000 (66.9%)\n",
      "\n",
      "new best model weight, saving...\n",
      "running epoch: 5\n"
     ]
    },
    {
     "name": "stderr",
     "output_type": "stream",
     "text": [
      "100%|██████████| 500/500 [00:29<00:00, 16.77it/s]\n"
     ]
    },
    {
     "name": "stdout",
     "output_type": "stream",
     "text": [
      "Epoch [5/40] Train Loss: 0.8145 | Train Acc: 71.49%\n"
     ]
    },
    {
     "name": "stderr",
     "output_type": "stream",
     "text": [
      "100%|██████████| 10/10 [00:01<00:00,  6.60it/s]\n"
     ]
    },
    {
     "name": "stdout",
     "output_type": "stream",
     "text": [
      "\n",
      "Test set: Average loss: 0.9038, Accuracy: 6930/10000 (69.3%)\n",
      "\n",
      "new best model weight, saving...\n",
      "running epoch: 6\n"
     ]
    },
    {
     "name": "stderr",
     "output_type": "stream",
     "text": [
      "100%|██████████| 500/500 [00:29<00:00, 16.76it/s]\n"
     ]
    },
    {
     "name": "stdout",
     "output_type": "stream",
     "text": [
      "Epoch [6/40] Train Loss: 0.7264 | Train Acc: 74.94%\n"
     ]
    },
    {
     "name": "stderr",
     "output_type": "stream",
     "text": [
      "100%|██████████| 10/10 [00:01<00:00,  6.54it/s]\n"
     ]
    },
    {
     "name": "stdout",
     "output_type": "stream",
     "text": [
      "\n",
      "Test set: Average loss: 0.7626, Accuracy: 7381/10000 (73.8%)\n",
      "\n",
      "new best model weight, saving...\n",
      "running epoch: 7\n"
     ]
    },
    {
     "name": "stderr",
     "output_type": "stream",
     "text": [
      "100%|██████████| 500/500 [00:29<00:00, 16.69it/s]\n"
     ]
    },
    {
     "name": "stdout",
     "output_type": "stream",
     "text": [
      "Epoch [7/40] Train Loss: 0.6584 | Train Acc: 77.40%\n"
     ]
    },
    {
     "name": "stderr",
     "output_type": "stream",
     "text": [
      "100%|██████████| 10/10 [00:01<00:00,  6.47it/s]\n"
     ]
    },
    {
     "name": "stdout",
     "output_type": "stream",
     "text": [
      "\n",
      "Test set: Average loss: 0.7189, Accuracy: 7596/10000 (76.0%)\n",
      "\n",
      "new best model weight, saving...\n",
      "running epoch: 8\n"
     ]
    },
    {
     "name": "stderr",
     "output_type": "stream",
     "text": [
      "100%|██████████| 500/500 [00:29<00:00, 16.77it/s]\n"
     ]
    },
    {
     "name": "stdout",
     "output_type": "stream",
     "text": [
      "Epoch [8/40] Train Loss: 0.6052 | Train Acc: 79.17%\n"
     ]
    },
    {
     "name": "stderr",
     "output_type": "stream",
     "text": [
      "100%|██████████| 10/10 [00:01<00:00,  6.50it/s]\n"
     ]
    },
    {
     "name": "stdout",
     "output_type": "stream",
     "text": [
      "\n",
      "Test set: Average loss: 0.6774, Accuracy: 7683/10000 (76.8%)\n",
      "\n",
      "new best model weight, saving...\n",
      "running epoch: 9\n"
     ]
    },
    {
     "name": "stderr",
     "output_type": "stream",
     "text": [
      "100%|██████████| 500/500 [00:29<00:00, 16.77it/s]\n"
     ]
    },
    {
     "name": "stdout",
     "output_type": "stream",
     "text": [
      "Epoch [9/40] Train Loss: 0.5693 | Train Acc: 80.35%\n"
     ]
    },
    {
     "name": "stderr",
     "output_type": "stream",
     "text": [
      "100%|██████████| 10/10 [00:01<00:00,  6.53it/s]\n"
     ]
    },
    {
     "name": "stdout",
     "output_type": "stream",
     "text": [
      "\n",
      "Test set: Average loss: 0.5516, Accuracy: 8130/10000 (81.3%)\n",
      "\n",
      "new best model weight, saving...\n",
      "running epoch: 10\n"
     ]
    },
    {
     "name": "stderr",
     "output_type": "stream",
     "text": [
      "100%|██████████| 500/500 [00:29<00:00, 16.69it/s]\n"
     ]
    },
    {
     "name": "stdout",
     "output_type": "stream",
     "text": [
      "Epoch [10/40] Train Loss: 0.5277 | Train Acc: 82.12%\n"
     ]
    },
    {
     "name": "stderr",
     "output_type": "stream",
     "text": [
      "100%|██████████| 10/10 [00:01<00:00,  6.50it/s]\n"
     ]
    },
    {
     "name": "stdout",
     "output_type": "stream",
     "text": [
      "\n",
      "Test set: Average loss: 0.5465, Accuracy: 8168/10000 (81.7%)\n",
      "\n",
      "new best model weight, saving...\n",
      "running epoch: 11\n"
     ]
    },
    {
     "name": "stderr",
     "output_type": "stream",
     "text": [
      "100%|██████████| 500/500 [00:29<00:00, 16.85it/s]\n"
     ]
    },
    {
     "name": "stdout",
     "output_type": "stream",
     "text": [
      "Epoch [11/40] Train Loss: 0.4981 | Train Acc: 82.99%\n"
     ]
    },
    {
     "name": "stderr",
     "output_type": "stream",
     "text": [
      "100%|██████████| 10/10 [00:01<00:00,  6.53it/s]\n"
     ]
    },
    {
     "name": "stdout",
     "output_type": "stream",
     "text": [
      "\n",
      "Test set: Average loss: 0.5434, Accuracy: 8175/10000 (81.8%)\n",
      "\n",
      "new best model weight, saving...\n",
      "running epoch: 12\n"
     ]
    },
    {
     "name": "stderr",
     "output_type": "stream",
     "text": [
      "100%|██████████| 500/500 [00:29<00:00, 16.78it/s]\n"
     ]
    },
    {
     "name": "stdout",
     "output_type": "stream",
     "text": [
      "Epoch [12/40] Train Loss: 0.4723 | Train Acc: 83.86%\n"
     ]
    },
    {
     "name": "stderr",
     "output_type": "stream",
     "text": [
      "100%|██████████| 10/10 [00:01<00:00,  6.58it/s]\n"
     ]
    },
    {
     "name": "stdout",
     "output_type": "stream",
     "text": [
      "\n",
      "Test set: Average loss: 0.5848, Accuracy: 8062/10000 (80.6%)\n",
      "\n",
      "running epoch: 13\n"
     ]
    },
    {
     "name": "stderr",
     "output_type": "stream",
     "text": [
      "100%|██████████| 500/500 [00:29<00:00, 16.69it/s]\n"
     ]
    },
    {
     "name": "stdout",
     "output_type": "stream",
     "text": [
      "Epoch [13/40] Train Loss: 0.4461 | Train Acc: 84.59%\n"
     ]
    },
    {
     "name": "stderr",
     "output_type": "stream",
     "text": [
      "100%|██████████| 10/10 [00:01<00:00,  6.48it/s]\n"
     ]
    },
    {
     "name": "stdout",
     "output_type": "stream",
     "text": [
      "\n",
      "Test set: Average loss: 0.5032, Accuracy: 8332/10000 (83.3%)\n",
      "\n",
      "new best model weight, saving...\n",
      "running epoch: 14\n"
     ]
    },
    {
     "name": "stderr",
     "output_type": "stream",
     "text": [
      "100%|██████████| 500/500 [00:29<00:00, 16.76it/s]\n"
     ]
    },
    {
     "name": "stdout",
     "output_type": "stream",
     "text": [
      "Epoch [14/40] Train Loss: 0.4275 | Train Acc: 85.24%\n"
     ]
    },
    {
     "name": "stderr",
     "output_type": "stream",
     "text": [
      "100%|██████████| 10/10 [00:01<00:00,  6.51it/s]\n"
     ]
    },
    {
     "name": "stdout",
     "output_type": "stream",
     "text": [
      "\n",
      "Test set: Average loss: 0.4603, Accuracy: 8492/10000 (84.9%)\n",
      "\n",
      "new best model weight, saving...\n",
      "running epoch: 15\n"
     ]
    },
    {
     "name": "stderr",
     "output_type": "stream",
     "text": [
      "100%|██████████| 500/500 [00:29<00:00, 16.80it/s]\n"
     ]
    },
    {
     "name": "stdout",
     "output_type": "stream",
     "text": [
      "Epoch [15/40] Train Loss: 0.4056 | Train Acc: 86.18%\n"
     ]
    },
    {
     "name": "stderr",
     "output_type": "stream",
     "text": [
      "100%|██████████| 10/10 [00:01<00:00,  6.49it/s]\n"
     ]
    },
    {
     "name": "stdout",
     "output_type": "stream",
     "text": [
      "\n",
      "Test set: Average loss: 0.4650, Accuracy: 8454/10000 (84.5%)\n",
      "\n",
      "running epoch: 16\n"
     ]
    },
    {
     "name": "stderr",
     "output_type": "stream",
     "text": [
      "100%|██████████| 500/500 [00:29<00:00, 16.72it/s]\n"
     ]
    },
    {
     "name": "stdout",
     "output_type": "stream",
     "text": [
      "Epoch [16/40] Train Loss: 0.3879 | Train Acc: 86.69%\n"
     ]
    },
    {
     "name": "stderr",
     "output_type": "stream",
     "text": [
      "100%|██████████| 10/10 [00:01<00:00,  6.47it/s]\n"
     ]
    },
    {
     "name": "stdout",
     "output_type": "stream",
     "text": [
      "\n",
      "Test set: Average loss: 0.4677, Accuracy: 8445/10000 (84.4%)\n",
      "\n",
      "running epoch: 17\n"
     ]
    },
    {
     "name": "stderr",
     "output_type": "stream",
     "text": [
      "100%|██████████| 500/500 [00:29<00:00, 16.83it/s]\n"
     ]
    },
    {
     "name": "stdout",
     "output_type": "stream",
     "text": [
      "Epoch [17/40] Train Loss: 0.3683 | Train Acc: 87.27%\n"
     ]
    },
    {
     "name": "stderr",
     "output_type": "stream",
     "text": [
      "100%|██████████| 10/10 [00:01<00:00,  6.54it/s]\n"
     ]
    },
    {
     "name": "stdout",
     "output_type": "stream",
     "text": [
      "\n",
      "Test set: Average loss: 0.4573, Accuracy: 8472/10000 (84.7%)\n",
      "\n",
      "running epoch: 18\n"
     ]
    },
    {
     "name": "stderr",
     "output_type": "stream",
     "text": [
      "100%|██████████| 500/500 [00:29<00:00, 16.79it/s]\n"
     ]
    },
    {
     "name": "stdout",
     "output_type": "stream",
     "text": [
      "Epoch [18/40] Train Loss: 0.3592 | Train Acc: 87.61%\n"
     ]
    },
    {
     "name": "stderr",
     "output_type": "stream",
     "text": [
      "100%|██████████| 10/10 [00:01<00:00,  6.51it/s]\n"
     ]
    },
    {
     "name": "stdout",
     "output_type": "stream",
     "text": [
      "\n",
      "Test set: Average loss: 0.5058, Accuracy: 8377/10000 (83.8%)\n",
      "\n",
      "running epoch: 19\n"
     ]
    },
    {
     "name": "stderr",
     "output_type": "stream",
     "text": [
      "100%|██████████| 500/500 [00:29<00:00, 16.71it/s]\n"
     ]
    },
    {
     "name": "stdout",
     "output_type": "stream",
     "text": [
      "Epoch [19/40] Train Loss: 0.3417 | Train Acc: 88.26%\n"
     ]
    },
    {
     "name": "stderr",
     "output_type": "stream",
     "text": [
      "100%|██████████| 10/10 [00:01<00:00,  6.46it/s]\n"
     ]
    },
    {
     "name": "stdout",
     "output_type": "stream",
     "text": [
      "\n",
      "Test set: Average loss: 0.4768, Accuracy: 8411/10000 (84.1%)\n",
      "\n",
      "running epoch: 20\n"
     ]
    },
    {
     "name": "stderr",
     "output_type": "stream",
     "text": [
      "100%|██████████| 500/500 [00:29<00:00, 16.78it/s]\n"
     ]
    },
    {
     "name": "stdout",
     "output_type": "stream",
     "text": [
      "Epoch [20/40] Train Loss: 0.3254 | Train Acc: 88.78%\n"
     ]
    },
    {
     "name": "stderr",
     "output_type": "stream",
     "text": [
      "100%|██████████| 10/10 [00:01<00:00,  6.48it/s]\n"
     ]
    },
    {
     "name": "stdout",
     "output_type": "stream",
     "text": [
      "\n",
      "Test set: Average loss: 0.4408, Accuracy: 8565/10000 (85.7%)\n",
      "\n",
      "new best model weight, saving...\n",
      "running epoch: 21\n"
     ]
    },
    {
     "name": "stderr",
     "output_type": "stream",
     "text": [
      "100%|██████████| 500/500 [00:29<00:00, 16.80it/s]\n"
     ]
    },
    {
     "name": "stdout",
     "output_type": "stream",
     "text": [
      "Epoch [21/40] Train Loss: 0.2334 | Train Acc: 92.14%\n"
     ]
    },
    {
     "name": "stderr",
     "output_type": "stream",
     "text": [
      "100%|██████████| 10/10 [00:01<00:00,  6.52it/s]\n"
     ]
    },
    {
     "name": "stdout",
     "output_type": "stream",
     "text": [
      "\n",
      "Test set: Average loss: 0.3228, Accuracy: 8916/10000 (89.2%)\n",
      "\n",
      "new best model weight, saving...\n",
      "running epoch: 22\n"
     ]
    },
    {
     "name": "stderr",
     "output_type": "stream",
     "text": [
      "100%|██████████| 500/500 [00:29<00:00, 16.69it/s]\n"
     ]
    },
    {
     "name": "stdout",
     "output_type": "stream",
     "text": [
      "Epoch [22/40] Train Loss: 0.2037 | Train Acc: 93.07%\n"
     ]
    },
    {
     "name": "stderr",
     "output_type": "stream",
     "text": [
      "100%|██████████| 10/10 [00:01<00:00,  6.50it/s]\n"
     ]
    },
    {
     "name": "stdout",
     "output_type": "stream",
     "text": [
      "\n",
      "Test set: Average loss: 0.3128, Accuracy: 8989/10000 (89.9%)\n",
      "\n",
      "new best model weight, saving...\n",
      "running epoch: 23\n"
     ]
    },
    {
     "name": "stderr",
     "output_type": "stream",
     "text": [
      "100%|██████████| 500/500 [00:29<00:00, 16.74it/s]\n"
     ]
    },
    {
     "name": "stdout",
     "output_type": "stream",
     "text": [
      "Epoch [23/40] Train Loss: 0.1906 | Train Acc: 93.52%\n"
     ]
    },
    {
     "name": "stderr",
     "output_type": "stream",
     "text": [
      "100%|██████████| 10/10 [00:01<00:00,  6.46it/s]\n"
     ]
    },
    {
     "name": "stdout",
     "output_type": "stream",
     "text": [
      "\n",
      "Test set: Average loss: 0.3157, Accuracy: 9007/10000 (90.1%)\n",
      "\n",
      "new best model weight, saving...\n",
      "running epoch: 24\n"
     ]
    },
    {
     "name": "stderr",
     "output_type": "stream",
     "text": [
      "100%|██████████| 500/500 [00:29<00:00, 16.79it/s]\n"
     ]
    },
    {
     "name": "stdout",
     "output_type": "stream",
     "text": [
      "Epoch [24/40] Train Loss: 0.1769 | Train Acc: 93.92%\n"
     ]
    },
    {
     "name": "stderr",
     "output_type": "stream",
     "text": [
      "100%|██████████| 10/10 [00:01<00:00,  6.46it/s]\n"
     ]
    },
    {
     "name": "stdout",
     "output_type": "stream",
     "text": [
      "\n",
      "Test set: Average loss: 0.3194, Accuracy: 9003/10000 (90.0%)\n",
      "\n",
      "running epoch: 25\n"
     ]
    },
    {
     "name": "stderr",
     "output_type": "stream",
     "text": [
      "100%|██████████| 500/500 [00:29<00:00, 16.71it/s]\n"
     ]
    },
    {
     "name": "stdout",
     "output_type": "stream",
     "text": [
      "Epoch [25/40] Train Loss: 0.1730 | Train Acc: 93.96%\n"
     ]
    },
    {
     "name": "stderr",
     "output_type": "stream",
     "text": [
      "100%|██████████| 10/10 [00:01<00:00,  6.55it/s]\n"
     ]
    },
    {
     "name": "stdout",
     "output_type": "stream",
     "text": [
      "\n",
      "Test set: Average loss: 0.3177, Accuracy: 9014/10000 (90.1%)\n",
      "\n",
      "new best model weight, saving...\n",
      "running epoch: 26\n"
     ]
    },
    {
     "name": "stderr",
     "output_type": "stream",
     "text": [
      "100%|██████████| 500/500 [00:29<00:00, 16.69it/s]\n"
     ]
    },
    {
     "name": "stdout",
     "output_type": "stream",
     "text": [
      "Epoch [26/40] Train Loss: 0.1647 | Train Acc: 94.21%\n"
     ]
    },
    {
     "name": "stderr",
     "output_type": "stream",
     "text": [
      "100%|██████████| 10/10 [00:01<00:00,  6.49it/s]\n"
     ]
    },
    {
     "name": "stdout",
     "output_type": "stream",
     "text": [
      "\n",
      "Test set: Average loss: 0.3117, Accuracy: 9027/10000 (90.3%)\n",
      "\n",
      "new best model weight, saving...\n",
      "running epoch: 27\n"
     ]
    },
    {
     "name": "stderr",
     "output_type": "stream",
     "text": [
      "100%|██████████| 500/500 [00:29<00:00, 16.80it/s]\n"
     ]
    },
    {
     "name": "stdout",
     "output_type": "stream",
     "text": [
      "Epoch [27/40] Train Loss: 0.1578 | Train Acc: 94.48%\n"
     ]
    },
    {
     "name": "stderr",
     "output_type": "stream",
     "text": [
      "100%|██████████| 10/10 [00:01<00:00,  6.50it/s]\n"
     ]
    },
    {
     "name": "stdout",
     "output_type": "stream",
     "text": [
      "\n",
      "Test set: Average loss: 0.3163, Accuracy: 8997/10000 (90.0%)\n",
      "\n",
      "running epoch: 28\n"
     ]
    },
    {
     "name": "stderr",
     "output_type": "stream",
     "text": [
      "100%|██████████| 500/500 [00:29<00:00, 16.69it/s]\n"
     ]
    },
    {
     "name": "stdout",
     "output_type": "stream",
     "text": [
      "Epoch [28/40] Train Loss: 0.1534 | Train Acc: 94.59%\n"
     ]
    },
    {
     "name": "stderr",
     "output_type": "stream",
     "text": [
      "100%|██████████| 10/10 [00:01<00:00,  7.13it/s]\n"
     ]
    },
    {
     "name": "stdout",
     "output_type": "stream",
     "text": [
      "\n",
      "Test set: Average loss: 0.3190, Accuracy: 9019/10000 (90.2%)\n",
      "\n",
      "running epoch: 29\n"
     ]
    },
    {
     "name": "stderr",
     "output_type": "stream",
     "text": [
      "100%|██████████| 500/500 [00:29<00:00, 16.71it/s]\n"
     ]
    },
    {
     "name": "stdout",
     "output_type": "stream",
     "text": [
      "Epoch [29/40] Train Loss: 0.1489 | Train Acc: 94.89%\n"
     ]
    },
    {
     "name": "stderr",
     "output_type": "stream",
     "text": [
      "100%|██████████| 10/10 [00:01<00:00,  6.51it/s]\n"
     ]
    },
    {
     "name": "stdout",
     "output_type": "stream",
     "text": [
      "\n",
      "Test set: Average loss: 0.3143, Accuracy: 9021/10000 (90.2%)\n",
      "\n",
      "running epoch: 30\n"
     ]
    },
    {
     "name": "stderr",
     "output_type": "stream",
     "text": [
      "100%|██████████| 500/500 [00:29<00:00, 16.78it/s]\n"
     ]
    },
    {
     "name": "stdout",
     "output_type": "stream",
     "text": [
      "Epoch [30/40] Train Loss: 0.1434 | Train Acc: 95.03%\n"
     ]
    },
    {
     "name": "stderr",
     "output_type": "stream",
     "text": [
      "100%|██████████| 10/10 [00:01<00:00,  6.49it/s]\n"
     ]
    },
    {
     "name": "stdout",
     "output_type": "stream",
     "text": [
      "\n",
      "Test set: Average loss: 0.3265, Accuracy: 9014/10000 (90.1%)\n",
      "\n",
      "running epoch: 31\n"
     ]
    },
    {
     "name": "stderr",
     "output_type": "stream",
     "text": [
      "100%|██████████| 500/500 [00:29<00:00, 16.70it/s]\n"
     ]
    },
    {
     "name": "stdout",
     "output_type": "stream",
     "text": [
      "Epoch [31/40] Train Loss: 0.1338 | Train Acc: 95.32%\n"
     ]
    },
    {
     "name": "stderr",
     "output_type": "stream",
     "text": [
      "100%|██████████| 10/10 [00:01<00:00,  6.47it/s]\n"
     ]
    },
    {
     "name": "stdout",
     "output_type": "stream",
     "text": [
      "\n",
      "Test set: Average loss: 0.3146, Accuracy: 9029/10000 (90.3%)\n",
      "\n",
      "new best model weight, saving...\n",
      "running epoch: 32\n"
     ]
    },
    {
     "name": "stderr",
     "output_type": "stream",
     "text": [
      "100%|██████████| 500/500 [00:29<00:00, 16.72it/s]\n"
     ]
    },
    {
     "name": "stdout",
     "output_type": "stream",
     "text": [
      "Epoch [32/40] Train Loss: 0.1311 | Train Acc: 95.48%\n"
     ]
    },
    {
     "name": "stderr",
     "output_type": "stream",
     "text": [
      "100%|██████████| 10/10 [00:01<00:00,  6.51it/s]\n"
     ]
    },
    {
     "name": "stdout",
     "output_type": "stream",
     "text": [
      "\n",
      "Test set: Average loss: 0.3144, Accuracy: 9026/10000 (90.3%)\n",
      "\n",
      "running epoch: 33\n"
     ]
    },
    {
     "name": "stderr",
     "output_type": "stream",
     "text": [
      "100%|██████████| 500/500 [00:29<00:00, 16.80it/s]\n"
     ]
    },
    {
     "name": "stdout",
     "output_type": "stream",
     "text": [
      "Epoch [33/40] Train Loss: 0.1284 | Train Acc: 95.52%\n"
     ]
    },
    {
     "name": "stderr",
     "output_type": "stream",
     "text": [
      "100%|██████████| 10/10 [00:01<00:00,  6.51it/s]\n"
     ]
    },
    {
     "name": "stdout",
     "output_type": "stream",
     "text": [
      "\n",
      "Test set: Average loss: 0.3134, Accuracy: 9030/10000 (90.3%)\n",
      "\n",
      "new best model weight, saving...\n",
      "running epoch: 34\n"
     ]
    },
    {
     "name": "stderr",
     "output_type": "stream",
     "text": [
      "100%|██████████| 500/500 [00:29<00:00, 16.71it/s]\n"
     ]
    },
    {
     "name": "stdout",
     "output_type": "stream",
     "text": [
      "Epoch [34/40] Train Loss: 0.1271 | Train Acc: 95.63%\n"
     ]
    },
    {
     "name": "stderr",
     "output_type": "stream",
     "text": [
      "100%|██████████| 10/10 [00:01<00:00,  7.17it/s]\n"
     ]
    },
    {
     "name": "stdout",
     "output_type": "stream",
     "text": [
      "\n",
      "Test set: Average loss: 0.3158, Accuracy: 9025/10000 (90.2%)\n",
      "\n",
      "running epoch: 35\n"
     ]
    },
    {
     "name": "stderr",
     "output_type": "stream",
     "text": [
      "100%|██████████| 500/500 [00:29<00:00, 16.72it/s]\n"
     ]
    },
    {
     "name": "stdout",
     "output_type": "stream",
     "text": [
      "Epoch [35/40] Train Loss: 0.1284 | Train Acc: 95.55%\n"
     ]
    },
    {
     "name": "stderr",
     "output_type": "stream",
     "text": [
      "100%|██████████| 10/10 [00:01<00:00,  6.47it/s]\n"
     ]
    },
    {
     "name": "stdout",
     "output_type": "stream",
     "text": [
      "\n",
      "Test set: Average loss: 0.3154, Accuracy: 9029/10000 (90.3%)\n",
      "\n",
      "running epoch: 36\n"
     ]
    },
    {
     "name": "stderr",
     "output_type": "stream",
     "text": [
      "100%|██████████| 500/500 [00:29<00:00, 16.81it/s]\n"
     ]
    },
    {
     "name": "stdout",
     "output_type": "stream",
     "text": [
      "Epoch [36/40] Train Loss: 0.1241 | Train Acc: 95.67%\n"
     ]
    },
    {
     "name": "stderr",
     "output_type": "stream",
     "text": [
      "100%|██████████| 10/10 [00:01<00:00,  6.47it/s]\n"
     ]
    },
    {
     "name": "stdout",
     "output_type": "stream",
     "text": [
      "\n",
      "Test set: Average loss: 0.3139, Accuracy: 9044/10000 (90.4%)\n",
      "\n",
      "new best model weight, saving...\n",
      "running epoch: 37\n"
     ]
    },
    {
     "name": "stderr",
     "output_type": "stream",
     "text": [
      "100%|██████████| 500/500 [00:29<00:00, 16.70it/s]\n"
     ]
    },
    {
     "name": "stdout",
     "output_type": "stream",
     "text": [
      "Epoch [37/40] Train Loss: 0.1240 | Train Acc: 95.71%\n"
     ]
    },
    {
     "name": "stderr",
     "output_type": "stream",
     "text": [
      "100%|██████████| 10/10 [00:01<00:00,  7.13it/s]\n"
     ]
    },
    {
     "name": "stdout",
     "output_type": "stream",
     "text": [
      "\n",
      "Test set: Average loss: 0.3139, Accuracy: 9044/10000 (90.4%)\n",
      "\n",
      "running epoch: 38\n"
     ]
    },
    {
     "name": "stderr",
     "output_type": "stream",
     "text": [
      "100%|██████████| 500/500 [00:29<00:00, 16.70it/s]\n"
     ]
    },
    {
     "name": "stdout",
     "output_type": "stream",
     "text": [
      "Epoch [38/40] Train Loss: 0.1256 | Train Acc: 95.76%\n"
     ]
    },
    {
     "name": "stderr",
     "output_type": "stream",
     "text": [
      "100%|██████████| 10/10 [00:01<00:00,  6.47it/s]\n"
     ]
    },
    {
     "name": "stdout",
     "output_type": "stream",
     "text": [
      "\n",
      "Test set: Average loss: 0.3161, Accuracy: 9030/10000 (90.3%)\n",
      "\n",
      "running epoch: 39\n"
     ]
    },
    {
     "name": "stderr",
     "output_type": "stream",
     "text": [
      "100%|██████████| 500/500 [00:29<00:00, 17.20it/s]\n"
     ]
    },
    {
     "name": "stdout",
     "output_type": "stream",
     "text": [
      "Epoch [39/40] Train Loss: 0.1277 | Train Acc: 95.54%\n"
     ]
    },
    {
     "name": "stderr",
     "output_type": "stream",
     "text": [
      "100%|██████████| 10/10 [00:01<00:00,  6.47it/s]\n"
     ]
    },
    {
     "name": "stdout",
     "output_type": "stream",
     "text": [
      "\n",
      "Test set: Average loss: 0.3149, Accuracy: 9042/10000 (90.4%)\n",
      "\n",
      "running epoch: 40\n"
     ]
    },
    {
     "name": "stderr",
     "output_type": "stream",
     "text": [
      "100%|██████████| 500/500 [00:29<00:00, 16.72it/s]\n"
     ]
    },
    {
     "name": "stdout",
     "output_type": "stream",
     "text": [
      "Epoch [40/40] Train Loss: 0.1235 | Train Acc: 95.83%\n"
     ]
    },
    {
     "name": "stderr",
     "output_type": "stream",
     "text": [
      "100%|██████████| 10/10 [00:01<00:00,  6.47it/s]"
     ]
    },
    {
     "name": "stdout",
     "output_type": "stream",
     "text": [
      "\n",
      "Test set: Average loss: 0.3171, Accuracy: 9038/10000 (90.4%)\n",
      "\n"
     ]
    },
    {
     "name": "stderr",
     "output_type": "stream",
     "text": [
      "\n"
     ]
    }
   ],
   "source": [
    "#### 訓練函數 #####\n",
    "\n",
    "# 注意: 需自行撰寫儲存每個epoch之train acc與test acc的code，以便後續繪製train acc與test acc結果圖!\n",
    "\n",
    "def train(epoch):\n",
    "    print('running epoch: {}'.format(epoch+1))\n",
    "    model.train()\n",
    "    train_correct = 0\n",
    "    train_total = 0\n",
    "    train_loss = 0.0\n",
    "\n",
    "    # for batch_idx, (data, target) in enumerate(train_loader):\n",
    "    for data, target in tqdm(train_loader):\n",
    "        if CUDA:\n",
    "            data, target = data.cuda(), target.cuda()\n",
    "\n",
    "        data, target = Variable(data), Variable(target)\n",
    "\n",
    "        optimizer.zero_grad()\n",
    "        output = model(data)\n",
    "\n",
    "        loss = criterion(output, target)\n",
    "        loss.backward()\n",
    "\n",
    "        if SPARSITY_REGULARIZATION:\n",
    "            updateBN()\n",
    "        optimizer.step()\n",
    "\n",
    "        pred = output.data.max(1, keepdim=True)[1]\n",
    "        \n",
    "        # save training loss & acc \n",
    "        train_loss += loss.item() * data.size(0)\n",
    "        train_correct += pred.eq(target.data.view_as(pred)).cpu().sum()\n",
    "        train_total += target.size(0)\n",
    "        \n",
    "        # if batch_idx % LOG_INTERVAL == 0:\n",
    "        #     print('Train Epoch: {} [{}/{} ({:.1f}%)]\\tLoss: {:.6f}'.format(\n",
    "        #         epoch + 1, batch_idx * len(data), len(train_loader.dataset),\n",
    "        #         100. * batch_idx / len(train_loader), loss.data.item()))\n",
    "            \n",
    "    train_loss = train_loss / len(train_loader.dataset)\n",
    "    train_acc = 100 * train_correct / train_total\n",
    "    train_losses.append(train_loss)\n",
    "    train_accuracies.append(train_acc)\n",
    "\n",
    "    print(f\"Epoch [{epoch+1}/{EPOCHS}] \"\n",
    "          f\"Train Loss: {train_loss:.4f} | Train Acc: {train_acc:.2f}%\")\n",
    "\n",
    "\n",
    "#### 測試函數 ####\n",
    "def test():\n",
    "    model.eval()\n",
    "    test_loss = 0.0\n",
    "    correct = 0\n",
    "    test_total = 0\n",
    "\n",
    "    with torch.no_grad():\n",
    "        for data, target in tqdm(test_loader):\n",
    "            if CUDA:\n",
    "                data, target = data.cuda(), target.cuda()\n",
    "            data, target = Variable(data), Variable(target)\n",
    "\n",
    "            output = model(data)\n",
    "            loss = criterion(output, target)\n",
    "            test_loss += loss.item() * data.size(0)\n",
    "\n",
    "            pred = output.data.max(1, keepdim=True)[1]\n",
    "            correct += pred.eq(target.data.view_as(pred)).cpu().sum()\n",
    "            test_total += target.size(0)\n",
    "\n",
    "        test_loss /= len(test_loader.dataset)\n",
    "\n",
    "        print('\\nTest set: Average loss: {:.4f}, Accuracy: {}/{} ({:.1f}%)\\n'.format(\n",
    "          test_loss, correct, len(test_loader.dataset),\n",
    "          100. * correct / len(test_loader.dataset)))\n",
    "      \n",
    "        test_acc = 100 * correct / test_total\n",
    "        test_losses.append(test_loss)\n",
    "        test_accuracies.append(test_acc)\n",
    "        return correct / float(len(test_loader.dataset))\n",
    "    \n",
    "    \n",
    "\n",
    "##########################################################################################\n",
    "\n",
    "best_prec1 = 0.\n",
    "train_losses = []\n",
    "train_accuracies = []\n",
    "test_losses = []\n",
    "test_accuracies = []\n",
    "\n",
    "best_model_path = './model_best.pth'\n",
    "if os.path.exists(best_model_path):\n",
    "    # model.load_state_dict(torch.load(best_model_path))\n",
    "    checkpoint = torch.load(best_model_path)\n",
    "    model.load_state_dict(checkpoint['state_dict'])\n",
    "    print(f\"Loaded model weights from {best_model_path}\")\n",
    "else:\n",
    "    print(\"No saved model found, starting from scratch.\")\n",
    "\n",
    "\n",
    "for epoch in range(START_EPOCH, EPOCHS):\n",
    "    # Learning Rate在0.5EPOCHS與0.75EPOCHS調整為原本1/10\n",
    "    if epoch in [EPOCHS*0.5, EPOCHS*0.75, EPOCHS*0.875]:\n",
    "        for param_group in optimizer.param_groups:\n",
    "            param_group['lr'] *= 0.1\n",
    "    train(epoch)\n",
    "    # scheduler.step()\n",
    "    prec1 = test()\n",
    "\n",
    "    # 儲存模型權重，方便做後續剪枝,後續訓練\n",
    "    if(prec1 > best_prec1):\n",
    "        print(\"new best model weight, saving...\")\n",
    "        best_prec1 = prec1\n",
    "        torch.save({\n",
    "            'epoch': epoch + 1,\n",
    "            'state_dict': model.state_dict(),\n",
    "            'best_prec1': best_prec1,\n",
    "            'optimizer': optimizer.state_dict(),\n",
    "        }, WEIGHT_PATH)\n",
    "\n",
    "    best_prec1 = max(prec1, best_prec1)\n"
   ]
  },
  {
   "cell_type": "markdown",
   "metadata": {
    "id": "pPoQuFgx3mD9"
   },
   "source": [
    "## 繪製Sparsity-Training結果圖"
   ]
  },
  {
   "cell_type": "code",
   "execution_count": 13,
   "metadata": {
    "id": "x7O2cE4q52A-"
   },
   "outputs": [
    {
     "data": {
      "image/png": "[encoded data removed]",
      "text/plain": [
       "<Figure size 1500x500 with 1 Axes>"
      ]
     },
     "metadata": {},
     "output_type": "display_data"
    },
    {
     "data": {
      "image/png": "[encoded data removed]",
      "text/plain": [
       "<Figure size 1500x500 with 1 Axes>"
      ]
     },
     "metadata": {},
     "output_type": "display_data"
    }
   ],
   "source": [
    "#繪製 Sparsity-Training 結果圖\n",
    "import matplotlib.pyplot as plt\n",
    "def plt_acc_all():\n",
    "    fig = plt.figure(figsize=(15, 5))\n",
    "    ax1 = fig.add_subplot(1, 2, 1)\n",
    "    ax1.set_title('All acc')\n",
    "\n",
    "    ax1.plot(train_accuracies)\n",
    "    ax1.plot(test_accuracies)\n",
    "\n",
    "    ax1.legend(['train_acc', 'test_acc'], loc='upper left')\n",
    "    ax1.set_xlabel('epoch')\n",
    "    plt.show()\n",
    "\n",
    "def plt_loss_all():\n",
    "    fig = plt.figure(figsize=(15, 5))\n",
    "    ax1 = fig.add_subplot(1, 2, 1)\n",
    "    ax1.set_title('All loss')\n",
    "\n",
    "    ax1.plot(train_losses)\n",
    "    ax1.plot(test_losses)\n",
    "\n",
    "    ax1.legend(['train_loss', 'test_loss'], loc='upper left')\n",
    "    ax1.set_xlabel('epoch')\n",
    "    plt.show()\n",
    "\n",
    "\n",
    "plt_loss_all()\n",
    "plt_acc_all()"
   ]
  },
  {
   "cell_type": "markdown",
   "metadata": {
    "id": "nw_CWhNSC7wT"
   },
   "source": [
    "## 繪製scaling factor 分布圖"
   ]
  },
  {
   "cell_type": "code",
   "execution_count": 14,
   "metadata": {
    "id": "ohSv3VlZCyuM"
   },
   "outputs": [
    {
     "data": {
      "image/png": "[encoded data removed]",
      "text/plain": [
       "<Figure size 800x500 with 1 Axes>"
      ]
     },
     "metadata": {},
     "output_type": "display_data"
    }
   ],
   "source": [
    "import torch\n",
    "import matplotlib.pyplot as plt\n",
    "import numpy as np\n",
    "\n",
    "def plot_bn_distribution(model, lambd=0, bins=80, save_path=None):\n",
    "    \"\"\"繪製整個模型中所有 BatchNorm2d 層的 scaling factor (γ) 分布\"\"\"\n",
    "    gammas = []\n",
    "\n",
    "    # 收集所有 BatchNorm 的 weight (γ)\n",
    "    for m in model.modules():\n",
    "        if isinstance(m, torch.nn.BatchNorm2d):\n",
    "            gammas.append(m.weight.data.abs().clone().cpu().numpy())\n",
    "\n",
    "    # 合併成一個大的 array\n",
    "    if len(gammas) == 0:\n",
    "        print(\"No BatchNorm2d layers found.\")\n",
    "        return\n",
    "    gammas = np.concatenate(gammas)\n",
    "\n",
    "    # 繪製 histogram\n",
    "    plt.figure(figsize=(8, 5))\n",
    "    plt.hist(gammas, bins=bins, color='skyblue', edgecolor='white')\n",
    "    plt.title(f\"Distribution of BatchNorm Scaling Factors (γ)\\nλ = {lambd}\", fontsize=14)\n",
    "    plt.xlabel(\"Scaling Factor Value (|γ|)\")\n",
    "    plt.ylabel(\"Count\")\n",
    "    plt.grid(True, linestyle='--', alpha=0.5)\n",
    "\n",
    "    if save_path:\n",
    "        plt.savefig(save_path, bbox_inches='tight', dpi=300)\n",
    "    plt.show()\n",
    "\n",
    "# plot_bn_distribution(model, lambd=0)\n",
    "plot_bn_distribution(model, lambd=1e-5)\n",
    "# plot_bn_distribution(model, lambd=1e-4)"
   ]
  }
 ],
 "metadata": {
  "accelerator": "GPU",
  "colab": {
   "gpuType": "T4",
   "provenance": []
  },
  "kernelspec": {
   "display_name": "EAI_Lab",
   "language": "python",
   "name": "python3"
  },
  "language_info": {
   "codemirror_mode": {
    "name": "ipython",
    "version": 3
   },
   "file_extension": ".py",
   "mimetype": "text/x-python",
   "name": "python",
   "nbconvert_exporter": "python",
   "pygments_lexer": "ipython3",
   "version": "3.11.13"
  }
 },
 "nbformat": 4,
 "nbformat_minor": 0
}
